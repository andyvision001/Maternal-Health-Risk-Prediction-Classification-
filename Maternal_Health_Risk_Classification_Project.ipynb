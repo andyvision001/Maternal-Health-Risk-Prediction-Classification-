{
  "nbformat": 4,
  "nbformat_minor": 0,
  "metadata": {
    "colab": {
      "provenance": []
    },
    "kernelspec": {
      "name": "python3",
      "display_name": "Python 3"
    },
    "language_info": {
      "name": "python"
    }
  },
  "cells": [
    {
      "cell_type": "markdown",
      "source": [
        "**READING THE CSV FILE FROM GOOGLE DRIVE**"
      ],
      "metadata": {
        "id": "BUW8flf_C-lK"
      }
    },
    {
      "cell_type": "code",
      "source": [
        "# Installing the PyDrive\n",
        "!pip install -U -q PyDrive\n",
        "from pydrive.auth import GoogleAuth\n",
        "from pydrive.drive import GoogleDrive\n",
        "from google.colab import auth\n",
        "from oauth2client.client import GoogleCredentials\n",
        "\n",
        "# Authenticating the google drive\n",
        "auth.authenticate_user()\n",
        "gauth = GoogleAuth()\n",
        "gauth.credentials = GoogleCredentials.get_application_default()\n",
        "drive = GoogleDrive(gauth)\n",
        "\n",
        "# Getting file ID and loading the CSV from the google drive\n",
        "# # https://drive.google.com/file/d/1SSDL15lBh6uT_rCIJ96exMQG8YDtTe7Z/view?usp=sharing\n",
        "fileDownloaded = drive.CreateFile({'id':'1SSDL15lBh6uT_rCIJ96exMQG8YDtTe7Z'})\n",
        "fileDownloaded.GetContentFile('Maternal_Health_Risk_Dataset.csv')"
      ],
      "metadata": {
        "id": "J8cOtgWBzvbS"
      },
      "execution_count": null,
      "outputs": []
    },
    {
      "cell_type": "markdown",
      "source": [
        "**LOADING THE DATA FROM THE CSV FILE**\n",
        "- Here, we are loading and reading the dataset using the pandas library and displaying the first ten rows."
      ],
      "metadata": {
        "id": "PHeVh76UxNZ_"
      }
    },
    {
      "cell_type": "code",
      "source": [
        "# load the training dataset\n",
        "import pandas as pd\n",
        "#Maternal_Health_Risk_Dataset = pd.read_csv('Maternal_Health_Risk_Dataset.csv')\n",
        "Maternal_Health_Risk_Dataset = pd.read_csv(\"https://archive.ics.uci.edu/ml/machine-learning-databases/00639/Maternal%20Health%20Risk%20Data%20Set.csv\")\n",
        "Maternal_Health_Risk_Dataset.head(10)"
      ],
      "metadata": {
        "colab": {
          "base_uri": "https://localhost:8080/",
          "height": 363
        },
        "id": "TlQWVMiM3OyJ",
        "outputId": "7617cd4d-39a8-4df3-c46f-ec82e228ac38"
      },
      "execution_count": null,
      "outputs": [
        {
          "output_type": "execute_result",
          "data": {
            "text/plain": [
              "   Age  SystolicBP  DiastolicBP     BS  BodyTemp  HeartRate  RiskLevel\n",
              "0   25         130           80  15.00      98.0         86  high risk\n",
              "1   35         140           90  13.00      98.0         70  high risk\n",
              "2   29          90           70   8.00     100.0         80  high risk\n",
              "3   30         140           85   7.00      98.0         70  high risk\n",
              "4   35         120           60   6.10      98.0         76   low risk\n",
              "5   23         140           80   7.01      98.0         70  high risk\n",
              "6   23         130           70   7.01      98.0         78   mid risk\n",
              "7   35          85           60  11.00     102.0         86  high risk\n",
              "8   32         120           90   6.90      98.0         70   mid risk\n",
              "9   42         130           80  18.00      98.0         70  high risk"
            ],
            "text/html": [
              "\n",
              "  <div id=\"df-272a4685-e3bc-4eab-a9ed-639aa0092681\">\n",
              "    <div class=\"colab-df-container\">\n",
              "      <div>\n",
              "<style scoped>\n",
              "    .dataframe tbody tr th:only-of-type {\n",
              "        vertical-align: middle;\n",
              "    }\n",
              "\n",
              "    .dataframe tbody tr th {\n",
              "        vertical-align: top;\n",
              "    }\n",
              "\n",
              "    .dataframe thead th {\n",
              "        text-align: right;\n",
              "    }\n",
              "</style>\n",
              "<table border=\"1\" class=\"dataframe\">\n",
              "  <thead>\n",
              "    <tr style=\"text-align: right;\">\n",
              "      <th></th>\n",
              "      <th>Age</th>\n",
              "      <th>SystolicBP</th>\n",
              "      <th>DiastolicBP</th>\n",
              "      <th>BS</th>\n",
              "      <th>BodyTemp</th>\n",
              "      <th>HeartRate</th>\n",
              "      <th>RiskLevel</th>\n",
              "    </tr>\n",
              "  </thead>\n",
              "  <tbody>\n",
              "    <tr>\n",
              "      <th>0</th>\n",
              "      <td>25</td>\n",
              "      <td>130</td>\n",
              "      <td>80</td>\n",
              "      <td>15.00</td>\n",
              "      <td>98.0</td>\n",
              "      <td>86</td>\n",
              "      <td>high risk</td>\n",
              "    </tr>\n",
              "    <tr>\n",
              "      <th>1</th>\n",
              "      <td>35</td>\n",
              "      <td>140</td>\n",
              "      <td>90</td>\n",
              "      <td>13.00</td>\n",
              "      <td>98.0</td>\n",
              "      <td>70</td>\n",
              "      <td>high risk</td>\n",
              "    </tr>\n",
              "    <tr>\n",
              "      <th>2</th>\n",
              "      <td>29</td>\n",
              "      <td>90</td>\n",
              "      <td>70</td>\n",
              "      <td>8.00</td>\n",
              "      <td>100.0</td>\n",
              "      <td>80</td>\n",
              "      <td>high risk</td>\n",
              "    </tr>\n",
              "    <tr>\n",
              "      <th>3</th>\n",
              "      <td>30</td>\n",
              "      <td>140</td>\n",
              "      <td>85</td>\n",
              "      <td>7.00</td>\n",
              "      <td>98.0</td>\n",
              "      <td>70</td>\n",
              "      <td>high risk</td>\n",
              "    </tr>\n",
              "    <tr>\n",
              "      <th>4</th>\n",
              "      <td>35</td>\n",
              "      <td>120</td>\n",
              "      <td>60</td>\n",
              "      <td>6.10</td>\n",
              "      <td>98.0</td>\n",
              "      <td>76</td>\n",
              "      <td>low risk</td>\n",
              "    </tr>\n",
              "    <tr>\n",
              "      <th>5</th>\n",
              "      <td>23</td>\n",
              "      <td>140</td>\n",
              "      <td>80</td>\n",
              "      <td>7.01</td>\n",
              "      <td>98.0</td>\n",
              "      <td>70</td>\n",
              "      <td>high risk</td>\n",
              "    </tr>\n",
              "    <tr>\n",
              "      <th>6</th>\n",
              "      <td>23</td>\n",
              "      <td>130</td>\n",
              "      <td>70</td>\n",
              "      <td>7.01</td>\n",
              "      <td>98.0</td>\n",
              "      <td>78</td>\n",
              "      <td>mid risk</td>\n",
              "    </tr>\n",
              "    <tr>\n",
              "      <th>7</th>\n",
              "      <td>35</td>\n",
              "      <td>85</td>\n",
              "      <td>60</td>\n",
              "      <td>11.00</td>\n",
              "      <td>102.0</td>\n",
              "      <td>86</td>\n",
              "      <td>high risk</td>\n",
              "    </tr>\n",
              "    <tr>\n",
              "      <th>8</th>\n",
              "      <td>32</td>\n",
              "      <td>120</td>\n",
              "      <td>90</td>\n",
              "      <td>6.90</td>\n",
              "      <td>98.0</td>\n",
              "      <td>70</td>\n",
              "      <td>mid risk</td>\n",
              "    </tr>\n",
              "    <tr>\n",
              "      <th>9</th>\n",
              "      <td>42</td>\n",
              "      <td>130</td>\n",
              "      <td>80</td>\n",
              "      <td>18.00</td>\n",
              "      <td>98.0</td>\n",
              "      <td>70</td>\n",
              "      <td>high risk</td>\n",
              "    </tr>\n",
              "  </tbody>\n",
              "</table>\n",
              "</div>\n",
              "      <button class=\"colab-df-convert\" onclick=\"convertToInteractive('df-272a4685-e3bc-4eab-a9ed-639aa0092681')\"\n",
              "              title=\"Convert this dataframe to an interactive table.\"\n",
              "              style=\"display:none;\">\n",
              "        \n",
              "  <svg xmlns=\"http://www.w3.org/2000/svg\" height=\"24px\"viewBox=\"0 0 24 24\"\n",
              "       width=\"24px\">\n",
              "    <path d=\"M0 0h24v24H0V0z\" fill=\"none\"/>\n",
              "    <path d=\"M18.56 5.44l.94 2.06.94-2.06 2.06-.94-2.06-.94-.94-2.06-.94 2.06-2.06.94zm-11 1L8.5 8.5l.94-2.06 2.06-.94-2.06-.94L8.5 2.5l-.94 2.06-2.06.94zm10 10l.94 2.06.94-2.06 2.06-.94-2.06-.94-.94-2.06-.94 2.06-2.06.94z\"/><path d=\"M17.41 7.96l-1.37-1.37c-.4-.4-.92-.59-1.43-.59-.52 0-1.04.2-1.43.59L10.3 9.45l-7.72 7.72c-.78.78-.78 2.05 0 2.83L4 21.41c.39.39.9.59 1.41.59.51 0 1.02-.2 1.41-.59l7.78-7.78 2.81-2.81c.8-.78.8-2.07 0-2.86zM5.41 20L4 18.59l7.72-7.72 1.47 1.35L5.41 20z\"/>\n",
              "  </svg>\n",
              "      </button>\n",
              "      \n",
              "  <style>\n",
              "    .colab-df-container {\n",
              "      display:flex;\n",
              "      flex-wrap:wrap;\n",
              "      gap: 12px;\n",
              "    }\n",
              "\n",
              "    .colab-df-convert {\n",
              "      background-color: #E8F0FE;\n",
              "      border: none;\n",
              "      border-radius: 50%;\n",
              "      cursor: pointer;\n",
              "      display: none;\n",
              "      fill: #1967D2;\n",
              "      height: 32px;\n",
              "      padding: 0 0 0 0;\n",
              "      width: 32px;\n",
              "    }\n",
              "\n",
              "    .colab-df-convert:hover {\n",
              "      background-color: #E2EBFA;\n",
              "      box-shadow: 0px 1px 2px rgba(60, 64, 67, 0.3), 0px 1px 3px 1px rgba(60, 64, 67, 0.15);\n",
              "      fill: #174EA6;\n",
              "    }\n",
              "\n",
              "    [theme=dark] .colab-df-convert {\n",
              "      background-color: #3B4455;\n",
              "      fill: #D2E3FC;\n",
              "    }\n",
              "\n",
              "    [theme=dark] .colab-df-convert:hover {\n",
              "      background-color: #434B5C;\n",
              "      box-shadow: 0px 1px 3px 1px rgba(0, 0, 0, 0.15);\n",
              "      filter: drop-shadow(0px 1px 2px rgba(0, 0, 0, 0.3));\n",
              "      fill: #FFFFFF;\n",
              "    }\n",
              "  </style>\n",
              "\n",
              "      <script>\n",
              "        const buttonEl =\n",
              "          document.querySelector('#df-272a4685-e3bc-4eab-a9ed-639aa0092681 button.colab-df-convert');\n",
              "        buttonEl.style.display =\n",
              "          google.colab.kernel.accessAllowed ? 'block' : 'none';\n",
              "\n",
              "        async function convertToInteractive(key) {\n",
              "          const element = document.querySelector('#df-272a4685-e3bc-4eab-a9ed-639aa0092681');\n",
              "          const dataTable =\n",
              "            await google.colab.kernel.invokeFunction('convertToInteractive',\n",
              "                                                     [key], {});\n",
              "          if (!dataTable) return;\n",
              "\n",
              "          const docLinkHtml = 'Like what you see? Visit the ' +\n",
              "            '<a target=\"_blank\" href=https://colab.research.google.com/notebooks/data_table.ipynb>data table notebook</a>'\n",
              "            + ' to learn more about interactive tables.';\n",
              "          element.innerHTML = '';\n",
              "          dataTable['output_type'] = 'display_data';\n",
              "          await google.colab.output.renderOutput(dataTable, element);\n",
              "          const docLink = document.createElement('div');\n",
              "          docLink.innerHTML = docLinkHtml;\n",
              "          element.appendChild(docLink);\n",
              "        }\n",
              "      </script>\n",
              "    </div>\n",
              "  </div>\n",
              "  "
            ]
          },
          "metadata": {},
          "execution_count": 1
        }
      ]
    },
    {
      "cell_type": "markdown",
      "source": [
        "**CHANGING THE CATEGORICAL LABELS TO NUMERIC LABELS**\n",
        "- Here we converted the categorical labels (low risk, mid risk and high risk) to numerical labels (0, 1, 2) for performing the classification task."
      ],
      "metadata": {
        "id": "jzjbrRIhvWR6"
      }
    },
    {
      "cell_type": "code",
      "source": [
        "#import pandas\n",
        "import pandas as pd\n",
        " \n",
        "# Convert Categorical Variable to Numeric values\n",
        "Maternal_Health_Risk_Dataset['RiskLevel'].replace(['low risk', 'mid risk', 'high risk'],\n",
        "                        [0, 1, 2], inplace=True)\n",
        "\n",
        "# Setting random samples\n",
        "sample = Maternal_Health_Risk_Dataset.sample()\n",
        "\n",
        "# Display the data\n",
        "Maternal_Health_Risk_Dataset.sample((10))\n"
      ],
      "metadata": {
        "colab": {
          "base_uri": "https://localhost:8080/",
          "height": 363
        },
        "id": "XmZsvaD6KduJ",
        "outputId": "5fa963a4-b5dc-4518-d594-014249768117"
      },
      "execution_count": null,
      "outputs": [
        {
          "output_type": "execute_result",
          "data": {
            "text/plain": [
              "     Age  SystolicBP  DiastolicBP    BS  BodyTemp  HeartRate  RiskLevel\n",
              "835   29         130           70   7.5      98.0         78          1\n",
              "222   32         120           90   6.4      98.0         70          0\n",
              "752   29         130           70   7.7      98.0         78          1\n",
              "886   15          76           49   6.8      98.0         77          0\n",
              "460   42         130           80  18.0      98.0         70          1\n",
              "576   15          78           49   7.5      98.0         77          0\n",
              "224   23          90           60   6.4      98.0         76          0\n",
              "394   19         120           80   7.0      98.0         70          1\n",
              "380   13          90           65   7.8     101.0         80          1\n",
              "756   23         130           70   6.9      98.0         70          1"
            ],
            "text/html": [
              "\n",
              "  <div id=\"df-0eb9a657-1644-4001-a8bc-73b0e6ee9f3e\">\n",
              "    <div class=\"colab-df-container\">\n",
              "      <div>\n",
              "<style scoped>\n",
              "    .dataframe tbody tr th:only-of-type {\n",
              "        vertical-align: middle;\n",
              "    }\n",
              "\n",
              "    .dataframe tbody tr th {\n",
              "        vertical-align: top;\n",
              "    }\n",
              "\n",
              "    .dataframe thead th {\n",
              "        text-align: right;\n",
              "    }\n",
              "</style>\n",
              "<table border=\"1\" class=\"dataframe\">\n",
              "  <thead>\n",
              "    <tr style=\"text-align: right;\">\n",
              "      <th></th>\n",
              "      <th>Age</th>\n",
              "      <th>SystolicBP</th>\n",
              "      <th>DiastolicBP</th>\n",
              "      <th>BS</th>\n",
              "      <th>BodyTemp</th>\n",
              "      <th>HeartRate</th>\n",
              "      <th>RiskLevel</th>\n",
              "    </tr>\n",
              "  </thead>\n",
              "  <tbody>\n",
              "    <tr>\n",
              "      <th>835</th>\n",
              "      <td>29</td>\n",
              "      <td>130</td>\n",
              "      <td>70</td>\n",
              "      <td>7.5</td>\n",
              "      <td>98.0</td>\n",
              "      <td>78</td>\n",
              "      <td>1</td>\n",
              "    </tr>\n",
              "    <tr>\n",
              "      <th>222</th>\n",
              "      <td>32</td>\n",
              "      <td>120</td>\n",
              "      <td>90</td>\n",
              "      <td>6.4</td>\n",
              "      <td>98.0</td>\n",
              "      <td>70</td>\n",
              "      <td>0</td>\n",
              "    </tr>\n",
              "    <tr>\n",
              "      <th>752</th>\n",
              "      <td>29</td>\n",
              "      <td>130</td>\n",
              "      <td>70</td>\n",
              "      <td>7.7</td>\n",
              "      <td>98.0</td>\n",
              "      <td>78</td>\n",
              "      <td>1</td>\n",
              "    </tr>\n",
              "    <tr>\n",
              "      <th>886</th>\n",
              "      <td>15</td>\n",
              "      <td>76</td>\n",
              "      <td>49</td>\n",
              "      <td>6.8</td>\n",
              "      <td>98.0</td>\n",
              "      <td>77</td>\n",
              "      <td>0</td>\n",
              "    </tr>\n",
              "    <tr>\n",
              "      <th>460</th>\n",
              "      <td>42</td>\n",
              "      <td>130</td>\n",
              "      <td>80</td>\n",
              "      <td>18.0</td>\n",
              "      <td>98.0</td>\n",
              "      <td>70</td>\n",
              "      <td>1</td>\n",
              "    </tr>\n",
              "    <tr>\n",
              "      <th>576</th>\n",
              "      <td>15</td>\n",
              "      <td>78</td>\n",
              "      <td>49</td>\n",
              "      <td>7.5</td>\n",
              "      <td>98.0</td>\n",
              "      <td>77</td>\n",
              "      <td>0</td>\n",
              "    </tr>\n",
              "    <tr>\n",
              "      <th>224</th>\n",
              "      <td>23</td>\n",
              "      <td>90</td>\n",
              "      <td>60</td>\n",
              "      <td>6.4</td>\n",
              "      <td>98.0</td>\n",
              "      <td>76</td>\n",
              "      <td>0</td>\n",
              "    </tr>\n",
              "    <tr>\n",
              "      <th>394</th>\n",
              "      <td>19</td>\n",
              "      <td>120</td>\n",
              "      <td>80</td>\n",
              "      <td>7.0</td>\n",
              "      <td>98.0</td>\n",
              "      <td>70</td>\n",
              "      <td>1</td>\n",
              "    </tr>\n",
              "    <tr>\n",
              "      <th>380</th>\n",
              "      <td>13</td>\n",
              "      <td>90</td>\n",
              "      <td>65</td>\n",
              "      <td>7.8</td>\n",
              "      <td>101.0</td>\n",
              "      <td>80</td>\n",
              "      <td>1</td>\n",
              "    </tr>\n",
              "    <tr>\n",
              "      <th>756</th>\n",
              "      <td>23</td>\n",
              "      <td>130</td>\n",
              "      <td>70</td>\n",
              "      <td>6.9</td>\n",
              "      <td>98.0</td>\n",
              "      <td>70</td>\n",
              "      <td>1</td>\n",
              "    </tr>\n",
              "  </tbody>\n",
              "</table>\n",
              "</div>\n",
              "      <button class=\"colab-df-convert\" onclick=\"convertToInteractive('df-0eb9a657-1644-4001-a8bc-73b0e6ee9f3e')\"\n",
              "              title=\"Convert this dataframe to an interactive table.\"\n",
              "              style=\"display:none;\">\n",
              "        \n",
              "  <svg xmlns=\"http://www.w3.org/2000/svg\" height=\"24px\"viewBox=\"0 0 24 24\"\n",
              "       width=\"24px\">\n",
              "    <path d=\"M0 0h24v24H0V0z\" fill=\"none\"/>\n",
              "    <path d=\"M18.56 5.44l.94 2.06.94-2.06 2.06-.94-2.06-.94-.94-2.06-.94 2.06-2.06.94zm-11 1L8.5 8.5l.94-2.06 2.06-.94-2.06-.94L8.5 2.5l-.94 2.06-2.06.94zm10 10l.94 2.06.94-2.06 2.06-.94-2.06-.94-.94-2.06-.94 2.06-2.06.94z\"/><path d=\"M17.41 7.96l-1.37-1.37c-.4-.4-.92-.59-1.43-.59-.52 0-1.04.2-1.43.59L10.3 9.45l-7.72 7.72c-.78.78-.78 2.05 0 2.83L4 21.41c.39.39.9.59 1.41.59.51 0 1.02-.2 1.41-.59l7.78-7.78 2.81-2.81c.8-.78.8-2.07 0-2.86zM5.41 20L4 18.59l7.72-7.72 1.47 1.35L5.41 20z\"/>\n",
              "  </svg>\n",
              "      </button>\n",
              "      \n",
              "  <style>\n",
              "    .colab-df-container {\n",
              "      display:flex;\n",
              "      flex-wrap:wrap;\n",
              "      gap: 12px;\n",
              "    }\n",
              "\n",
              "    .colab-df-convert {\n",
              "      background-color: #E8F0FE;\n",
              "      border: none;\n",
              "      border-radius: 50%;\n",
              "      cursor: pointer;\n",
              "      display: none;\n",
              "      fill: #1967D2;\n",
              "      height: 32px;\n",
              "      padding: 0 0 0 0;\n",
              "      width: 32px;\n",
              "    }\n",
              "\n",
              "    .colab-df-convert:hover {\n",
              "      background-color: #E2EBFA;\n",
              "      box-shadow: 0px 1px 2px rgba(60, 64, 67, 0.3), 0px 1px 3px 1px rgba(60, 64, 67, 0.15);\n",
              "      fill: #174EA6;\n",
              "    }\n",
              "\n",
              "    [theme=dark] .colab-df-convert {\n",
              "      background-color: #3B4455;\n",
              "      fill: #D2E3FC;\n",
              "    }\n",
              "\n",
              "    [theme=dark] .colab-df-convert:hover {\n",
              "      background-color: #434B5C;\n",
              "      box-shadow: 0px 1px 3px 1px rgba(0, 0, 0, 0.15);\n",
              "      filter: drop-shadow(0px 1px 2px rgba(0, 0, 0, 0.3));\n",
              "      fill: #FFFFFF;\n",
              "    }\n",
              "  </style>\n",
              "\n",
              "      <script>\n",
              "        const buttonEl =\n",
              "          document.querySelector('#df-0eb9a657-1644-4001-a8bc-73b0e6ee9f3e button.colab-df-convert');\n",
              "        buttonEl.style.display =\n",
              "          google.colab.kernel.accessAllowed ? 'block' : 'none';\n",
              "\n",
              "        async function convertToInteractive(key) {\n",
              "          const element = document.querySelector('#df-0eb9a657-1644-4001-a8bc-73b0e6ee9f3e');\n",
              "          const dataTable =\n",
              "            await google.colab.kernel.invokeFunction('convertToInteractive',\n",
              "                                                     [key], {});\n",
              "          if (!dataTable) return;\n",
              "\n",
              "          const docLinkHtml = 'Like what you see? Visit the ' +\n",
              "            '<a target=\"_blank\" href=https://colab.research.google.com/notebooks/data_table.ipynb>data table notebook</a>'\n",
              "            + ' to learn more about interactive tables.';\n",
              "          element.innerHTML = '';\n",
              "          dataTable['output_type'] = 'display_data';\n",
              "          await google.colab.output.renderOutput(dataTable, element);\n",
              "          const docLink = document.createElement('div');\n",
              "          docLink.innerHTML = docLinkHtml;\n",
              "          element.appendChild(docLink);\n",
              "        }\n",
              "      </script>\n",
              "    </div>\n",
              "  </div>\n",
              "  "
            ]
          },
          "metadata": {},
          "execution_count": 2
        }
      ]
    },
    {
      "cell_type": "markdown",
      "source": [
        "**EXPLORING THE DATASET CHECKING IF THERE ARE MISSING (NULL) VALUES**\n",
        "- This is another data preprocessing that check whether there missing or null value. As can be seen below, there are no missing or null values from the dataset."
      ],
      "metadata": {
        "id": "0SOdiAIUtlJt"
      }
    },
    {
      "cell_type": "code",
      "source": [
        "# Count the number of null values for each column\n",
        "Maternal_Health_Risk_Dataset.isnull().sum()"
      ],
      "metadata": {
        "colab": {
          "base_uri": "https://localhost:8080/"
        },
        "id": "T33f1npLOaSf",
        "outputId": "1517ba6c-e9d0-46ea-f1e8-41d0140b2ce2"
      },
      "execution_count": null,
      "outputs": [
        {
          "output_type": "execute_result",
          "data": {
            "text/plain": [
              "Age            0\n",
              "SystolicBP     0\n",
              "DiastolicBP    0\n",
              "BS             0\n",
              "BodyTemp       0\n",
              "HeartRate      0\n",
              "RiskLevel      0\n",
              "dtype: int64"
            ]
          },
          "metadata": {},
          "execution_count": 3
        }
      ]
    },
    {
      "cell_type": "markdown",
      "source": [
        "**CREATING THE CLASSIFICATION CLASS AND REVEALING THE RISK CLASS LABELS**\n",
        "- We created a classification class here and called it risk_classes. The risk classes are: 'Low Risk', 'Mid Risk', and 'High Risk'. This will enable us to perform  the classification task."
      ],
      "metadata": {
        "id": "VIofM6UVt9vg"
      }
    },
    {
      "cell_type": "code",
      "source": [
        "risk_classes = ['Low Risk', 'Mid Risk', 'High Risk']\n",
        "print(sample.columns[0:7].values, 'Risk Class')\n",
        "for index, row in Maternal_Health_Risk_Dataset.sample(10).iterrows():\n",
        "    print('[',row[0], row[1], row[2], row[3], row[4], row[5], int(row[6]),']', risk_classes[int(row[6])])"
      ],
      "metadata": {
        "colab": {
          "base_uri": "https://localhost:8080/"
        },
        "id": "QvCiE1D8bhZ5",
        "outputId": "2ec7a67d-9003-4e68-b81b-0d213899025c"
      },
      "execution_count": null,
      "outputs": [
        {
          "output_type": "stream",
          "name": "stdout",
          "text": [
            "['Age' 'SystolicBP' 'DiastolicBP' 'BS' 'BodyTemp' 'HeartRate' 'RiskLevel'] Risk Class\n",
            "[ 19.0 120.0 85.0 7.0 98.0 60.0 0 ] Low Risk\n",
            "[ 25.0 140.0 100.0 7.2 98.0 80.0 2 ] High Risk\n",
            "[ 23.0 120.0 90.0 7.8 98.0 60.0 1 ] Mid Risk\n",
            "[ 21.0 90.0 65.0 6.9 98.0 76.0 1 ] Mid Risk\n",
            "[ 28.0 120.0 90.0 6.9 98.0 70.0 0 ] Low Risk\n",
            "[ 25.0 120.0 80.0 6.8 98.0 66.0 1 ] Mid Risk\n",
            "[ 30.0 120.0 80.0 7.5 101.0 76.0 1 ] Mid Risk\n",
            "[ 50.0 120.0 80.0 7.0 98.0 70.0 1 ] Mid Risk\n",
            "[ 40.0 120.0 75.0 7.7 98.0 70.0 2 ] High Risk\n",
            "[ 25.0 100.0 90.0 6.9 98.0 76.0 0 ] Low Risk\n"
          ]
        }
      ]
    },
    {
      "cell_type": "markdown",
      "source": [
        "**SEPARATING THE FEATURES FROM THE LABELS**\n",
        "- Since this is a classification project, we need to separate the features from the labels from our dataset. Therefore, below is the implementation of separating the features from the labels. "
      ],
      "metadata": {
        "id": "opAMSxHkuTpi"
      }
    },
    {
      "cell_type": "code",
      "source": [
        "# Separate features and labels\n",
        "features = ['Age','SystolicBP','DiastolicBP','BS','BodyTemp','HeartRate']\n",
        "label = 'RiskLevel'\n",
        "X, y = Maternal_Health_Risk_Dataset[features].values, Maternal_Health_Risk_Dataset[label].values\n",
        "\n",
        "for n in range(0,5):\n",
        "    print(\"Patient\", str(n+1), \"\\n  Features:\",list(X[n]), \"\\n  Label:\", y[n])"
      ],
      "metadata": {
        "colab": {
          "base_uri": "https://localhost:8080/"
        },
        "id": "NYw7Aoxd9wwD",
        "outputId": "16abbd96-2e9b-4c85-c6c7-2ad943a48a1e"
      },
      "execution_count": null,
      "outputs": [
        {
          "output_type": "stream",
          "name": "stdout",
          "text": [
            "Patient 1 \n",
            "  Features: [25.0, 130.0, 80.0, 15.0, 98.0, 86.0] \n",
            "  Label: 2\n",
            "Patient 2 \n",
            "  Features: [35.0, 140.0, 90.0, 13.0, 98.0, 70.0] \n",
            "  Label: 2\n",
            "Patient 3 \n",
            "  Features: [29.0, 90.0, 70.0, 8.0, 100.0, 80.0] \n",
            "  Label: 2\n",
            "Patient 4 \n",
            "  Features: [30.0, 140.0, 85.0, 7.0, 98.0, 70.0] \n",
            "  Label: 2\n",
            "Patient 5 \n",
            "  Features: [35.0, 120.0, 60.0, 6.1, 98.0, 76.0] \n",
            "  Label: 0\n"
          ]
        }
      ]
    },
    {
      "cell_type": "markdown",
      "source": [
        "**Dataset Description**\n",
        "* This is just viewing the description of the dataset."
      ],
      "metadata": {
        "id": "pNIAOPZ5MBZS"
      }
    },
    {
      "cell_type": "code",
      "source": [
        "Maternal_Health_Risk_Dataset.describe()"
      ],
      "metadata": {
        "colab": {
          "base_uri": "https://localhost:8080/",
          "height": 300
        },
        "id": "vp4-4zHoFpfo",
        "outputId": "84361242-8012-459a-c25c-a32383236c7a"
      },
      "execution_count": null,
      "outputs": [
        {
          "output_type": "execute_result",
          "data": {
            "text/plain": [
              "               Age   SystolicBP  DiastolicBP           BS     BodyTemp  \\\n",
              "count  1014.000000  1014.000000  1014.000000  1014.000000  1014.000000   \n",
              "mean     29.871795   113.198225    76.460552     8.725986    98.665089   \n",
              "std      13.474386    18.403913    13.885796     3.293532     1.371384   \n",
              "min      10.000000    70.000000    49.000000     6.000000    98.000000   \n",
              "25%      19.000000   100.000000    65.000000     6.900000    98.000000   \n",
              "50%      26.000000   120.000000    80.000000     7.500000    98.000000   \n",
              "75%      39.000000   120.000000    90.000000     8.000000    98.000000   \n",
              "max      70.000000   160.000000   100.000000    19.000000   103.000000   \n",
              "\n",
              "         HeartRate    RiskLevel  \n",
              "count  1014.000000  1014.000000  \n",
              "mean     74.301775     0.867850  \n",
              "std       8.088702     0.807353  \n",
              "min       7.000000     0.000000  \n",
              "25%      70.000000     0.000000  \n",
              "50%      76.000000     1.000000  \n",
              "75%      80.000000     2.000000  \n",
              "max      90.000000     2.000000  "
            ],
            "text/html": [
              "\n",
              "  <div id=\"df-b50a6df1-8d1b-492c-9a52-cc4a28805b28\">\n",
              "    <div class=\"colab-df-container\">\n",
              "      <div>\n",
              "<style scoped>\n",
              "    .dataframe tbody tr th:only-of-type {\n",
              "        vertical-align: middle;\n",
              "    }\n",
              "\n",
              "    .dataframe tbody tr th {\n",
              "        vertical-align: top;\n",
              "    }\n",
              "\n",
              "    .dataframe thead th {\n",
              "        text-align: right;\n",
              "    }\n",
              "</style>\n",
              "<table border=\"1\" class=\"dataframe\">\n",
              "  <thead>\n",
              "    <tr style=\"text-align: right;\">\n",
              "      <th></th>\n",
              "      <th>Age</th>\n",
              "      <th>SystolicBP</th>\n",
              "      <th>DiastolicBP</th>\n",
              "      <th>BS</th>\n",
              "      <th>BodyTemp</th>\n",
              "      <th>HeartRate</th>\n",
              "      <th>RiskLevel</th>\n",
              "    </tr>\n",
              "  </thead>\n",
              "  <tbody>\n",
              "    <tr>\n",
              "      <th>count</th>\n",
              "      <td>1014.000000</td>\n",
              "      <td>1014.000000</td>\n",
              "      <td>1014.000000</td>\n",
              "      <td>1014.000000</td>\n",
              "      <td>1014.000000</td>\n",
              "      <td>1014.000000</td>\n",
              "      <td>1014.000000</td>\n",
              "    </tr>\n",
              "    <tr>\n",
              "      <th>mean</th>\n",
              "      <td>29.871795</td>\n",
              "      <td>113.198225</td>\n",
              "      <td>76.460552</td>\n",
              "      <td>8.725986</td>\n",
              "      <td>98.665089</td>\n",
              "      <td>74.301775</td>\n",
              "      <td>0.867850</td>\n",
              "    </tr>\n",
              "    <tr>\n",
              "      <th>std</th>\n",
              "      <td>13.474386</td>\n",
              "      <td>18.403913</td>\n",
              "      <td>13.885796</td>\n",
              "      <td>3.293532</td>\n",
              "      <td>1.371384</td>\n",
              "      <td>8.088702</td>\n",
              "      <td>0.807353</td>\n",
              "    </tr>\n",
              "    <tr>\n",
              "      <th>min</th>\n",
              "      <td>10.000000</td>\n",
              "      <td>70.000000</td>\n",
              "      <td>49.000000</td>\n",
              "      <td>6.000000</td>\n",
              "      <td>98.000000</td>\n",
              "      <td>7.000000</td>\n",
              "      <td>0.000000</td>\n",
              "    </tr>\n",
              "    <tr>\n",
              "      <th>25%</th>\n",
              "      <td>19.000000</td>\n",
              "      <td>100.000000</td>\n",
              "      <td>65.000000</td>\n",
              "      <td>6.900000</td>\n",
              "      <td>98.000000</td>\n",
              "      <td>70.000000</td>\n",
              "      <td>0.000000</td>\n",
              "    </tr>\n",
              "    <tr>\n",
              "      <th>50%</th>\n",
              "      <td>26.000000</td>\n",
              "      <td>120.000000</td>\n",
              "      <td>80.000000</td>\n",
              "      <td>7.500000</td>\n",
              "      <td>98.000000</td>\n",
              "      <td>76.000000</td>\n",
              "      <td>1.000000</td>\n",
              "    </tr>\n",
              "    <tr>\n",
              "      <th>75%</th>\n",
              "      <td>39.000000</td>\n",
              "      <td>120.000000</td>\n",
              "      <td>90.000000</td>\n",
              "      <td>8.000000</td>\n",
              "      <td>98.000000</td>\n",
              "      <td>80.000000</td>\n",
              "      <td>2.000000</td>\n",
              "    </tr>\n",
              "    <tr>\n",
              "      <th>max</th>\n",
              "      <td>70.000000</td>\n",
              "      <td>160.000000</td>\n",
              "      <td>100.000000</td>\n",
              "      <td>19.000000</td>\n",
              "      <td>103.000000</td>\n",
              "      <td>90.000000</td>\n",
              "      <td>2.000000</td>\n",
              "    </tr>\n",
              "  </tbody>\n",
              "</table>\n",
              "</div>\n",
              "      <button class=\"colab-df-convert\" onclick=\"convertToInteractive('df-b50a6df1-8d1b-492c-9a52-cc4a28805b28')\"\n",
              "              title=\"Convert this dataframe to an interactive table.\"\n",
              "              style=\"display:none;\">\n",
              "        \n",
              "  <svg xmlns=\"http://www.w3.org/2000/svg\" height=\"24px\"viewBox=\"0 0 24 24\"\n",
              "       width=\"24px\">\n",
              "    <path d=\"M0 0h24v24H0V0z\" fill=\"none\"/>\n",
              "    <path d=\"M18.56 5.44l.94 2.06.94-2.06 2.06-.94-2.06-.94-.94-2.06-.94 2.06-2.06.94zm-11 1L8.5 8.5l.94-2.06 2.06-.94-2.06-.94L8.5 2.5l-.94 2.06-2.06.94zm10 10l.94 2.06.94-2.06 2.06-.94-2.06-.94-.94-2.06-.94 2.06-2.06.94z\"/><path d=\"M17.41 7.96l-1.37-1.37c-.4-.4-.92-.59-1.43-.59-.52 0-1.04.2-1.43.59L10.3 9.45l-7.72 7.72c-.78.78-.78 2.05 0 2.83L4 21.41c.39.39.9.59 1.41.59.51 0 1.02-.2 1.41-.59l7.78-7.78 2.81-2.81c.8-.78.8-2.07 0-2.86zM5.41 20L4 18.59l7.72-7.72 1.47 1.35L5.41 20z\"/>\n",
              "  </svg>\n",
              "      </button>\n",
              "      \n",
              "  <style>\n",
              "    .colab-df-container {\n",
              "      display:flex;\n",
              "      flex-wrap:wrap;\n",
              "      gap: 12px;\n",
              "    }\n",
              "\n",
              "    .colab-df-convert {\n",
              "      background-color: #E8F0FE;\n",
              "      border: none;\n",
              "      border-radius: 50%;\n",
              "      cursor: pointer;\n",
              "      display: none;\n",
              "      fill: #1967D2;\n",
              "      height: 32px;\n",
              "      padding: 0 0 0 0;\n",
              "      width: 32px;\n",
              "    }\n",
              "\n",
              "    .colab-df-convert:hover {\n",
              "      background-color: #E2EBFA;\n",
              "      box-shadow: 0px 1px 2px rgba(60, 64, 67, 0.3), 0px 1px 3px 1px rgba(60, 64, 67, 0.15);\n",
              "      fill: #174EA6;\n",
              "    }\n",
              "\n",
              "    [theme=dark] .colab-df-convert {\n",
              "      background-color: #3B4455;\n",
              "      fill: #D2E3FC;\n",
              "    }\n",
              "\n",
              "    [theme=dark] .colab-df-convert:hover {\n",
              "      background-color: #434B5C;\n",
              "      box-shadow: 0px 1px 3px 1px rgba(0, 0, 0, 0.15);\n",
              "      filter: drop-shadow(0px 1px 2px rgba(0, 0, 0, 0.3));\n",
              "      fill: #FFFFFF;\n",
              "    }\n",
              "  </style>\n",
              "\n",
              "      <script>\n",
              "        const buttonEl =\n",
              "          document.querySelector('#df-b50a6df1-8d1b-492c-9a52-cc4a28805b28 button.colab-df-convert');\n",
              "        buttonEl.style.display =\n",
              "          google.colab.kernel.accessAllowed ? 'block' : 'none';\n",
              "\n",
              "        async function convertToInteractive(key) {\n",
              "          const element = document.querySelector('#df-b50a6df1-8d1b-492c-9a52-cc4a28805b28');\n",
              "          const dataTable =\n",
              "            await google.colab.kernel.invokeFunction('convertToInteractive',\n",
              "                                                     [key], {});\n",
              "          if (!dataTable) return;\n",
              "\n",
              "          const docLinkHtml = 'Like what you see? Visit the ' +\n",
              "            '<a target=\"_blank\" href=https://colab.research.google.com/notebooks/data_table.ipynb>data table notebook</a>'\n",
              "            + ' to learn more about interactive tables.';\n",
              "          element.innerHTML = '';\n",
              "          dataTable['output_type'] = 'display_data';\n",
              "          await google.colab.output.renderOutput(dataTable, element);\n",
              "          const docLink = document.createElement('div');\n",
              "          docLink.innerHTML = docLinkHtml;\n",
              "          element.appendChild(docLink);\n",
              "        }\n",
              "      </script>\n",
              "    </div>\n",
              "  </div>\n",
              "  "
            ]
          },
          "metadata": {},
          "execution_count": 8
        }
      ]
    },
    {
      "cell_type": "markdown",
      "source": [
        "**EXPLORING THE DATA FEATURES USING HISTOGRAM**\n",
        "*   Here we are exploring the features within the dataset using histograms (distplot)."
      ],
      "metadata": {
        "id": "I_bXN1K-M5le"
      }
    },
    {
      "cell_type": "code",
      "source": [
        "import matplotlib.pyplot as plt\n",
        "import pandas as pd\n",
        "import seaborn as sns\n",
        "\n",
        "features = ['Age','SystolicBP','DiastolicBP','BS','BodyTemp','HeartRate']\n",
        "for col in features:\n",
        "  sns.set( style = \"white\" )\n",
        "  rs = Maternal_Health_Risk_Dataset\n",
        "  ax = sns.distplot(rs, kde = True, color = \"red\")\n",
        "\n",
        "  ax.set_title(col)\n",
        "  plt.show()"
      ],
      "metadata": {
        "colab": {
          "base_uri": "https://localhost:8080/",
          "height": 1000
        },
        "id": "B0GGnoUmDUSh",
        "outputId": "71f5291c-693b-42af-f8c9-9193b654287d"
      },
      "execution_count": null,
      "outputs": [
        {
          "output_type": "stream",
          "name": "stderr",
          "text": [
            "/usr/local/lib/python3.8/dist-packages/seaborn/distributions.py:2619: FutureWarning: `distplot` is a deprecated function and will be removed in a future version. Please adapt your code to use either `displot` (a figure-level function with similar flexibility) or `histplot` (an axes-level function for histograms).\n",
            "  warnings.warn(msg, FutureWarning)\n"
          ]
        },
        {
          "output_type": "display_data",
          "data": {
            "text/plain": [
              "<Figure size 432x288 with 1 Axes>"
            ],
            "image/png": "[encoded data removed]"
          },
          "metadata": {}
        },
        {
          "output_type": "stream",
          "name": "stderr",
          "text": [
            "/usr/local/lib/python3.8/dist-packages/seaborn/distributions.py:2619: FutureWarning: `distplot` is a deprecated function and will be removed in a future version. Please adapt your code to use either `displot` (a figure-level function with similar flexibility) or `histplot` (an axes-level function for histograms).\n",
            "  warnings.warn(msg, FutureWarning)\n"
          ]
        },
        {
          "output_type": "display_data",
          "data": {
            "text/plain": [
              "<Figure size 432x288 with 1 Axes>"
            ],
            "image/png": "[encoded data removed]"
          },
          "metadata": {}
        },
        {
          "output_type": "stream",
          "name": "stderr",
          "text": [
            "/usr/local/lib/python3.8/dist-packages/seaborn/distributions.py:2619: FutureWarning: `distplot` is a deprecated function and will be removed in a future version. Please adapt your code to use either `displot` (a figure-level function with similar flexibility) or `histplot` (an axes-level function for histograms).\n",
            "  warnings.warn(msg, FutureWarning)\n"
          ]
        },
        {
          "output_type": "display_data",
          "data": {
            "text/plain": [
              "<Figure size 432x288 with 1 Axes>"
            ],
            "image/png": "[encoded data removed]"
          },
          "metadata": {}
        },
        {
          "output_type": "stream",
          "name": "stderr",
          "text": [
            "/usr/local/lib/python3.8/dist-packages/seaborn/distributions.py:2619: FutureWarning: `distplot` is a deprecated function and will be removed in a future version. Please adapt your code to use either `displot` (a figure-level function with similar flexibility) or `histplot` (an axes-level function for histograms).\n",
            "  warnings.warn(msg, FutureWarning)\n"
          ]
        },
        {
          "output_type": "display_data",
          "data": {
            "text/plain": [
              "<Figure size 432x288 with 1 Axes>"
            ],
            "image/png": "[encoded data removed]"
          },
          "metadata": {}
        },
        {
          "output_type": "stream",
          "name": "stderr",
          "text": [
            "/usr/local/lib/python3.8/dist-packages/seaborn/distributions.py:2619: FutureWarning: `distplot` is a deprecated function and will be removed in a future version. Please adapt your code to use either `displot` (a figure-level function with similar flexibility) or `histplot` (an axes-level function for histograms).\n",
            "  warnings.warn(msg, FutureWarning)\n"
          ]
        },
        {
          "output_type": "display_data",
          "data": {
            "text/plain": [
              "<Figure size 432x288 with 1 Axes>"
            ],
            "image/png": "[encoded data removed]"
          },
          "metadata": {}
        },
        {
          "output_type": "stream",
          "name": "stderr",
          "text": [
            "/usr/local/lib/python3.8/dist-packages/seaborn/distributions.py:2619: FutureWarning: `distplot` is a deprecated function and will be removed in a future version. Please adapt your code to use either `displot` (a figure-level function with similar flexibility) or `histplot` (an axes-level function for histograms).\n",
            "  warnings.warn(msg, FutureWarning)\n"
          ]
        },
        {
          "output_type": "display_data",
          "data": {
            "text/plain": [
              "<Figure size 432x288 with 1 Axes>"
            ],
            "image/png": "[encoded data removed]"
          },
          "metadata": {}
        }
      ]
    },
    {
      "cell_type": "markdown",
      "source": [
        "**MULTICOLLINEARITY USING VIF**\n",
        "* This is another data preprocessing activities whereby we check the multicollinearity of each feature in the dataset using Variance Inflation Factor."
      ],
      "metadata": {
        "id": "q0KInT0HN_Im"
      }
    },
    {
      "cell_type": "code",
      "source": [
        "from statsmodels.stats.outliers_influence import variance_inflation_factor\n",
        "\n",
        "# The dataset\n",
        "data = Maternal_Health_Risk_Dataset \n",
        "\n",
        "# the independent variables set\n",
        "X = data[['Age', 'SystolicBP', 'DiastolicBP', 'BS', 'BodyTemp', 'HeartRate']]\n",
        "  \n",
        "# VIF dataframe\n",
        "vif_data = pd.DataFrame()\n",
        "vif_data[\"FEATURES\"] = X.columns\n",
        "  \n",
        "# calculating VIF for each feature\n",
        "vif_data[\"VIF\"] = [variance_inflation_factor(X.values, i)\n",
        "                          for i in range(len(X.columns))]\n",
        "  \n",
        "print(vif_data)"
      ],
      "metadata": {
        "colab": {
          "base_uri": "https://localhost:8080/"
        },
        "id": "1wTQ9m7COGhJ",
        "outputId": "27caee0b-5d0d-4d97-bb09-a0d12c31bbc2"
      },
      "execution_count": null,
      "outputs": [
        {
          "output_type": "stream",
          "name": "stdout",
          "text": [
            "      FEATURES         VIF\n",
            "0          Age    8.329186\n",
            "1   SystolicBP  105.681497\n",
            "2  DiastolicBP   85.306370\n",
            "3           BS   11.670358\n",
            "4     BodyTemp  126.771068\n",
            "5    HeartRate   89.539839\n"
          ]
        }
      ]
    },
    {
      "cell_type": "markdown",
      "source": [
        "**PREPARING AND SPLITTING THE DATA FOR TRAINING AND VALIDATION**\n",
        "* Here we split the dataset into the training set (70%) and testing set (30%).\n",
        "* The training set will be used in training the models while the testing set is for validating the trained models' performance."
      ],
      "metadata": {
        "id": "JyYRrxdFYl81"
      }
    },
    {
      "cell_type": "code",
      "source": [
        "from sklearn.model_selection import train_test_split\n",
        "\n",
        "# Split data 70%-30% into training set and test set\n",
        "X_train, X_test, y_train, y_test = train_test_split(X, y, test_size=0.30, random_state= 0, stratify=y)\n",
        "\n",
        "print ('Training cases: %d\\nTest cases: %d' % (X_train.shape[0], X_test.shape[0]))"
      ],
      "metadata": {
        "colab": {
          "base_uri": "https://localhost:8080/"
        },
        "id": "Ae5fhsCI-MMb",
        "outputId": "7ec2f66e-3b73-4a3f-ce76-5ab85f49b1d1"
      },
      "execution_count": null,
      "outputs": [
        {
          "output_type": "stream",
          "name": "stdout",
          "text": [
            "Training cases: 709\n",
            "Test cases: 305\n"
          ]
        }
      ]
    },
    {
      "cell_type": "markdown",
      "source": [
        "**SMOTE TECHNIQUE (ANALYSIS)**\n",
        "* SMOTE technique is used in situations where inbalance exist within the data.\n",
        "* We used the SMOTE technique with the LabelEncoder from the sklearn.preprocessing to create a balanced data.\n",
        "* We also plot the unbalanced and the balanced data for better visualization."
      ],
      "metadata": {
        "id": "rEq-wHMCOOfs"
      }
    },
    {
      "cell_type": "code",
      "source": [
        "import numpy as np\n",
        "a = np.array([y_train])\n",
        "#y_train.value_counts()\n",
        "unique, counts = np.unique(a, return_counts=True)\n",
        "dict(zip(unique, counts))"
      ],
      "metadata": {
        "colab": {
          "base_uri": "https://localhost:8080/"
        },
        "id": "K37j8K1b-1yf",
        "outputId": "8b1e6ae8-6815-4845-acb8-35a0e443e7eb"
      },
      "execution_count": null,
      "outputs": [
        {
          "output_type": "execute_result",
          "data": {
            "text/plain": [
              "{0: 284, 1: 235, 2: 190}"
            ]
          },
          "metadata": {},
          "execution_count": 12
        }
      ]
    },
    {
      "cell_type": "code",
      "source": [
        "# load and summarize the dataset\n",
        "from pandas import read_csv\n",
        "from collections import Counter\n",
        "from matplotlib import pyplot\n",
        "from sklearn.preprocessing import LabelEncoder\n",
        "\n",
        "# define the dataset location\n",
        "url = Maternal_Health_Risk_Dataset\n",
        "\n",
        "# load the csv file as a data frame\n",
        "data = url.values\n",
        "\n",
        "# split into input and output elements\n",
        "X, y = data[:, :-1], data[:, -1]\n",
        "\n",
        "# label encode the target variable\n",
        "y = LabelEncoder().fit_transform(y)\n",
        "\n",
        "# summarize distribution\n",
        "counter = Counter(y)\n",
        "for k,v in counter.items():\n",
        " per = v / len(y) * 100\n",
        " print('Class=%d, n=%d (%.3f%%)' % (k, v, per))\n",
        "\n",
        "# plot the distribution\n",
        "pyplot.bar(counter.keys(), counter.values())\n",
        "pyplot.show()"
      ],
      "metadata": {
        "colab": {
          "base_uri": "https://localhost:8080/",
          "height": 323
        },
        "id": "cJKmk5dZQdLZ",
        "outputId": "531e54ff-d02a-4a16-d3eb-ebe2fb053826"
      },
      "execution_count": null,
      "outputs": [
        {
          "output_type": "stream",
          "name": "stdout",
          "text": [
            "Class=2, n=272 (26.824%)\n",
            "Class=0, n=406 (40.039%)\n",
            "Class=1, n=336 (33.136%)\n"
          ]
        },
        {
          "output_type": "display_data",
          "data": {
            "text/plain": [
              "<Figure size 432x288 with 1 Axes>"
            ],
            "image/png": "[encoded data removed]"
          },
          "metadata": {}
        }
      ]
    },
    {
      "cell_type": "code",
      "source": [
        "# example of oversampling a multi-class classification dataset\n",
        "from pandas import read_csv\n",
        "from imblearn.over_sampling import SMOTE\n",
        "from collections import Counter\n",
        "from matplotlib import pyplot\n",
        "from sklearn.preprocessing import LabelEncoder\n",
        "\n",
        "\n",
        "# define the dataset location\n",
        "url2 = Maternal_Health_Risk_Dataset\n",
        "\n",
        "\n",
        "# load the csv file as a data frame\n",
        "#df = read_csv(url, header=None)\n",
        "data = url2.values\n",
        "\n",
        "\n",
        "# split into input and output elements\n",
        "X, y = data[:, :-1], data[:, -1]\n",
        "\n",
        "# label encode the target variable\n",
        "y = LabelEncoder().fit_transform(y)\n",
        "\n",
        "# transform the dataset\n",
        "oversample = SMOTE()\n",
        "X, y = oversample.fit_resample(X, y)\n",
        "\n",
        "\n",
        "# summarize distribution\n",
        "counter = Counter(y)\n",
        "for k,v in counter.items():\n",
        " per = v / len(y) * 100\n",
        " print('Class=%d, n=%d (%.3f%%)' % (k, v, per))\n",
        "\n",
        "\n",
        "# plot the distribution\n",
        "pyplot.bar(counter.keys(), counter.values())\n",
        "pyplot.show()"
      ],
      "metadata": {
        "colab": {
          "base_uri": "https://localhost:8080/",
          "height": 323
        },
        "id": "eZkf4u1IUgXJ",
        "outputId": "01b5d242-d2d1-4438-bb5d-f29004f04e49"
      },
      "execution_count": null,
      "outputs": [
        {
          "output_type": "stream",
          "name": "stdout",
          "text": [
            "Class=2, n=406 (33.333%)\n",
            "Class=0, n=406 (33.333%)\n",
            "Class=1, n=406 (33.333%)\n"
          ]
        },
        {
          "output_type": "display_data",
          "data": {
            "text/plain": [
              "<Figure size 432x288 with 1 Axes>"
            ],
            "image/png": "[encoded data removed]"
          },
          "metadata": {}
        }
      ]
    },
    {
      "cell_type": "markdown",
      "source": [
        "**CORRELATION MATRIX**  \n",
        "* Here we implemented the correlation matrix thats shows the relationship between the features within the dataset."
      ],
      "metadata": {
        "id": "QtNOvGiT-3Bh"
      }
    },
    {
      "cell_type": "code",
      "source": [
        "import seaborn as sns\n",
        "\n",
        "data = Maternal_Health_Risk_Dataset\n",
        "df = pd.DataFrame(data)\n",
        "\n",
        "corr_matrix = df.corr()\n",
        "corr_matrix.style.background_gradient(cmap='coolwarm')"
      ],
      "metadata": {
        "colab": {
          "base_uri": "https://localhost:8080/",
          "height": 269
        },
        "id": "qYT4B2s1-2Ch",
        "outputId": "378e36e5-62a6-4f07-f064-969c506c566a"
      },
      "execution_count": null,
      "outputs": [
        {
          "output_type": "execute_result",
          "data": {
            "text/plain": [
              "<pandas.io.formats.style.Styler at 0x7fe4fd999460>"
            ],
            "text/html": [
              "<style type=\"text/css\">\n",
              "#T_504b8_row0_col0, #T_504b8_row1_col1, #T_504b8_row2_col2, #T_504b8_row3_col3, #T_504b8_row4_col4, #T_504b8_row5_col5, #T_504b8_row6_col6 {\n",
              "  background-color: #b40426;\n",
              "  color: #f1f1f1;\n",
              "}\n",
              "#T_504b8_row0_col1 {\n",
              "  background-color: #e8d6cc;\n",
              "  color: #000000;\n",
              "}\n",
              "#T_504b8_row0_col2, #T_504b8_row0_col3, #T_504b8_row2_col0 {\n",
              "  background-color: #e2dad5;\n",
              "  color: #000000;\n",
              "}\n",
              "#T_504b8_row0_col4 {\n",
              "  background-color: #4257c9;\n",
              "  color: #f1f1f1;\n",
              "}\n",
              "#T_504b8_row0_col5 {\n",
              "  background-color: #5f7fe8;\n",
              "  color: #f1f1f1;\n",
              "}\n",
              "#T_504b8_row0_col6 {\n",
              "  background-color: #6180e9;\n",
              "  color: #f1f1f1;\n",
              "}\n",
              "#T_504b8_row1_col0 {\n",
              "  background-color: #e5d8d1;\n",
              "  color: #000000;\n",
              "}\n",
              "#T_504b8_row1_col2 {\n",
              "  background-color: #e8765c;\n",
              "  color: #f1f1f1;\n",
              "}\n",
              "#T_504b8_row1_col3, #T_504b8_row2_col3, #T_504b8_row6_col2 {\n",
              "  background-color: #d7dce3;\n",
              "  color: #000000;\n",
              "}\n",
              "#T_504b8_row1_col4, #T_504b8_row2_col5, #T_504b8_row4_col0, #T_504b8_row4_col1, #T_504b8_row4_col2, #T_504b8_row4_col3, #T_504b8_row4_col6 {\n",
              "  background-color: #3b4cc0;\n",
              "  color: #f1f1f1;\n",
              "}\n",
              "#T_504b8_row1_col5, #T_504b8_row2_col4 {\n",
              "  background-color: #4055c8;\n",
              "  color: #f1f1f1;\n",
              "}\n",
              "#T_504b8_row1_col6 {\n",
              "  background-color: #97b8ff;\n",
              "  color: #000000;\n",
              "}\n",
              "#T_504b8_row2_col1 {\n",
              "  background-color: #e7745b;\n",
              "  color: #f1f1f1;\n",
              "}\n",
              "#T_504b8_row2_col6 {\n",
              "  background-color: #81a4fb;\n",
              "  color: #f1f1f1;\n",
              "}\n",
              "#T_504b8_row3_col0 {\n",
              "  background-color: #efcfbf;\n",
              "  color: #000000;\n",
              "}\n",
              "#T_504b8_row3_col1 {\n",
              "  background-color: #ead5c9;\n",
              "  color: #000000;\n",
              "}\n",
              "#T_504b8_row3_col2 {\n",
              "  background-color: #e7d7ce;\n",
              "  color: #000000;\n",
              "}\n",
              "#T_504b8_row3_col4 {\n",
              "  background-color: #6788ee;\n",
              "  color: #f1f1f1;\n",
              "}\n",
              "#T_504b8_row3_col5 {\n",
              "  background-color: #7597f6;\n",
              "  color: #f1f1f1;\n",
              "}\n",
              "#T_504b8_row3_col6 {\n",
              "  background-color: #d9dce1;\n",
              "  color: #000000;\n",
              "}\n",
              "#T_504b8_row4_col5 {\n",
              "  background-color: #6687ed;\n",
              "  color: #f1f1f1;\n",
              "}\n",
              "#T_504b8_row5_col0 {\n",
              "  background-color: #93b5fe;\n",
              "  color: #000000;\n",
              "}\n",
              "#T_504b8_row5_col1 {\n",
              "  background-color: #7da0f9;\n",
              "  color: #f1f1f1;\n",
              "}\n",
              "#T_504b8_row5_col2 {\n",
              "  background-color: #7093f3;\n",
              "  color: #f1f1f1;\n",
              "}\n",
              "#T_504b8_row5_col3 {\n",
              "  background-color: #84a7fc;\n",
              "  color: #f1f1f1;\n",
              "}\n",
              "#T_504b8_row5_col4 {\n",
              "  background-color: #9ebeff;\n",
              "  color: #000000;\n",
              "}\n",
              "#T_504b8_row5_col6 {\n",
              "  background-color: #455cce;\n",
              "  color: #f1f1f1;\n",
              "}\n",
              "#T_504b8_row6_col0 {\n",
              "  background-color: #c5d6f2;\n",
              "  color: #000000;\n",
              "}\n",
              "#T_504b8_row6_col1 {\n",
              "  background-color: #e4d9d2;\n",
              "  color: #000000;\n",
              "}\n",
              "#T_504b8_row6_col3 {\n",
              "  background-color: #f3c8b2;\n",
              "  color: #000000;\n",
              "}\n",
              "#T_504b8_row6_col4 {\n",
              "  background-color: #afcafc;\n",
              "  color: #000000;\n",
              "}\n",
              "#T_504b8_row6_col5 {\n",
              "  background-color: #85a8fc;\n",
              "  color: #f1f1f1;\n",
              "}\n",
              "</style>\n",
              "<table id=\"T_504b8_\" class=\"dataframe\">\n",
              "  <thead>\n",
              "    <tr>\n",
              "      <th class=\"blank level0\" >&nbsp;</th>\n",
              "      <th class=\"col_heading level0 col0\" >Age</th>\n",
              "      <th class=\"col_heading level0 col1\" >SystolicBP</th>\n",
              "      <th class=\"col_heading level0 col2\" >DiastolicBP</th>\n",
              "      <th class=\"col_heading level0 col3\" >BS</th>\n",
              "      <th class=\"col_heading level0 col4\" >BodyTemp</th>\n",
              "      <th class=\"col_heading level0 col5\" >HeartRate</th>\n",
              "      <th class=\"col_heading level0 col6\" >RiskLevel</th>\n",
              "    </tr>\n",
              "  </thead>\n",
              "  <tbody>\n",
              "    <tr>\n",
              "      <th id=\"T_504b8_level0_row0\" class=\"row_heading level0 row0\" >Age</th>\n",
              "      <td id=\"T_504b8_row0_col0\" class=\"data row0 col0\" >1.000000</td>\n",
              "      <td id=\"T_504b8_row0_col1\" class=\"data row0 col1\" >0.416045</td>\n",
              "      <td id=\"T_504b8_row0_col2\" class=\"data row0 col2\" >0.398026</td>\n",
              "      <td id=\"T_504b8_row0_col3\" class=\"data row0 col3\" >0.473284</td>\n",
              "      <td id=\"T_504b8_row0_col4\" class=\"data row0 col4\" >-0.255323</td>\n",
              "      <td id=\"T_504b8_row0_col5\" class=\"data row0 col5\" >0.079798</td>\n",
              "      <td id=\"T_504b8_row0_col6\" class=\"data row0 col6\" >0.267225</td>\n",
              "    </tr>\n",
              "    <tr>\n",
              "      <th id=\"T_504b8_level0_row1\" class=\"row_heading level0 row1\" >SystolicBP</th>\n",
              "      <td id=\"T_504b8_row1_col0\" class=\"data row1 col0\" >0.416045</td>\n",
              "      <td id=\"T_504b8_row1_col1\" class=\"data row1 col1\" >1.000000</td>\n",
              "      <td id=\"T_504b8_row1_col2\" class=\"data row1 col2\" >0.787006</td>\n",
              "      <td id=\"T_504b8_row1_col3\" class=\"data row1 col3\" >0.425172</td>\n",
              "      <td id=\"T_504b8_row1_col4\" class=\"data row1 col4\" >-0.286616</td>\n",
              "      <td id=\"T_504b8_row1_col5\" class=\"data row1 col5\" >-0.023108</td>\n",
              "      <td id=\"T_504b8_row1_col6\" class=\"data row1 col6\" >0.396473</td>\n",
              "    </tr>\n",
              "    <tr>\n",
              "      <th id=\"T_504b8_level0_row2\" class=\"row_heading level0 row2\" >DiastolicBP</th>\n",
              "      <td id=\"T_504b8_row2_col0\" class=\"data row2 col0\" >0.398026</td>\n",
              "      <td id=\"T_504b8_row2_col1\" class=\"data row2 col1\" >0.787006</td>\n",
              "      <td id=\"T_504b8_row2_col2\" class=\"data row2 col2\" >1.000000</td>\n",
              "      <td id=\"T_504b8_row2_col3\" class=\"data row2 col3\" >0.423824</td>\n",
              "      <td id=\"T_504b8_row2_col4\" class=\"data row2 col4\" >-0.257538</td>\n",
              "      <td id=\"T_504b8_row2_col5\" class=\"data row2 col5\" >-0.046151</td>\n",
              "      <td id=\"T_504b8_row2_col6\" class=\"data row2 col6\" >0.346649</td>\n",
              "    </tr>\n",
              "    <tr>\n",
              "      <th id=\"T_504b8_level0_row3\" class=\"row_heading level0 row3\" >BS</th>\n",
              "      <td id=\"T_504b8_row3_col0\" class=\"data row3 col0\" >0.473284</td>\n",
              "      <td id=\"T_504b8_row3_col1\" class=\"data row3 col1\" >0.425172</td>\n",
              "      <td id=\"T_504b8_row3_col2\" class=\"data row3 col2\" >0.423824</td>\n",
              "      <td id=\"T_504b8_row3_col3\" class=\"data row3 col3\" >1.000000</td>\n",
              "      <td id=\"T_504b8_row3_col4\" class=\"data row3 col4\" >-0.103493</td>\n",
              "      <td id=\"T_504b8_row3_col5\" class=\"data row3 col5\" >0.142867</td>\n",
              "      <td id=\"T_504b8_row3_col6\" class=\"data row3 col6\" >0.569942</td>\n",
              "    </tr>\n",
              "    <tr>\n",
              "      <th id=\"T_504b8_level0_row4\" class=\"row_heading level0 row4\" >BodyTemp</th>\n",
              "      <td id=\"T_504b8_row4_col0\" class=\"data row4 col0\" >-0.255323</td>\n",
              "      <td id=\"T_504b8_row4_col1\" class=\"data row4 col1\" >-0.286616</td>\n",
              "      <td id=\"T_504b8_row4_col2\" class=\"data row4 col2\" >-0.257538</td>\n",
              "      <td id=\"T_504b8_row4_col3\" class=\"data row4 col3\" >-0.103493</td>\n",
              "      <td id=\"T_504b8_row4_col4\" class=\"data row4 col4\" >1.000000</td>\n",
              "      <td id=\"T_504b8_row4_col5\" class=\"data row4 col5\" >0.098771</td>\n",
              "      <td id=\"T_504b8_row4_col6\" class=\"data row4 col6\" >0.163984</td>\n",
              "    </tr>\n",
              "    <tr>\n",
              "      <th id=\"T_504b8_level0_row5\" class=\"row_heading level0 row5\" >HeartRate</th>\n",
              "      <td id=\"T_504b8_row5_col0\" class=\"data row5 col0\" >0.079798</td>\n",
              "      <td id=\"T_504b8_row5_col1\" class=\"data row5 col1\" >-0.023108</td>\n",
              "      <td id=\"T_504b8_row5_col2\" class=\"data row5 col2\" >-0.046151</td>\n",
              "      <td id=\"T_504b8_row5_col3\" class=\"data row5 col3\" >0.142867</td>\n",
              "      <td id=\"T_504b8_row5_col4\" class=\"data row5 col4\" >0.098771</td>\n",
              "      <td id=\"T_504b8_row5_col5\" class=\"data row5 col5\" >1.000000</td>\n",
              "      <td id=\"T_504b8_row5_col6\" class=\"data row5 col6\" >0.194312</td>\n",
              "    </tr>\n",
              "    <tr>\n",
              "      <th id=\"T_504b8_level0_row6\" class=\"row_heading level0 row6\" >RiskLevel</th>\n",
              "      <td id=\"T_504b8_row6_col0\" class=\"data row6 col0\" >0.267225</td>\n",
              "      <td id=\"T_504b8_row6_col1\" class=\"data row6 col1\" >0.396473</td>\n",
              "      <td id=\"T_504b8_row6_col2\" class=\"data row6 col2\" >0.346649</td>\n",
              "      <td id=\"T_504b8_row6_col3\" class=\"data row6 col3\" >0.569942</td>\n",
              "      <td id=\"T_504b8_row6_col4\" class=\"data row6 col4\" >0.163984</td>\n",
              "      <td id=\"T_504b8_row6_col5\" class=\"data row6 col5\" >0.194312</td>\n",
              "      <td id=\"T_504b8_row6_col6\" class=\"data row6 col6\" >1.000000</td>\n",
              "    </tr>\n",
              "  </tbody>\n",
              "</table>\n"
            ]
          },
          "metadata": {},
          "execution_count": 15
        }
      ]
    },
    {
      "cell_type": "markdown",
      "source": [
        "**TRAINING AND EVALUATE A MULTICLASS CLASSIFIER**"
      ],
      "metadata": {
        "id": "pe7LRtQpX1Gn"
      }
    },
    {
      "cell_type": "markdown",
      "source": [
        "**IMPLEMENTING LOGISTIC REGRESSION WITH HYPER PARAMETERS**\n",
        "* Here the Logistic Regression was implemented with Hyperparameters tuning using the GridSearchCV"
      ],
      "metadata": {
        "id": "elIRdUd3ZYsO"
      }
    },
    {
      "cell_type": "code",
      "source": [
        "from sklearn.linear_model import LogisticRegression\n",
        "from sklearn.model_selection import GridSearchCV\n",
        "\n",
        "# Set the parameter grid\n",
        "param_grid = {'C': [0.001, 0.01, 0.1, 1, 10], 'solver': ['liblinear'], 'multi_class': ['auto'], 'max_iter':[10000]}\n",
        "\n",
        "# train a logistic regression model on the training set\n",
        "model = LogisticRegression()\n",
        "\n",
        "# Use GridSearchCV to perform the hyperparameter tuning\n",
        "multi_model = GridSearchCV(model, param_grid, cv=5)\n",
        "multi_model.fit(X_train, y_train)\n",
        "\n",
        "# Print the best parameters and score\n",
        "print(\"Best parameters:\", multi_model.best_params_)\n",
        "print(\"Best score:\", multi_model.best_score_)\n",
        "print(multi_model)"
      ],
      "metadata": {
        "colab": {
          "base_uri": "https://localhost:8080/"
        },
        "id": "9ARFHUpHXOSn",
        "outputId": "493c08ec-00a4-4f1d-df4d-c66363cb3e70"
      },
      "execution_count": null,
      "outputs": [
        {
          "output_type": "stream",
          "name": "stdout",
          "text": [
            "Best parameters: {'C': 10, 'max_iter': 10000, 'multi_class': 'auto', 'solver': 'liblinear'}\n",
            "Best score: 0.6191988812306463\n",
            "GridSearchCV(cv=5, estimator=LogisticRegression(),\n",
            "             param_grid={'C': [0.001, 0.01, 0.1, 1, 10], 'max_iter': [10000],\n",
            "                         'multi_class': ['auto'], 'solver': ['liblinear']})\n"
          ]
        }
      ]
    },
    {
      "cell_type": "markdown",
      "source": [
        "**COMPARING THE ACTUAL AND THE PREDICTED**\n",
        "* The printout of the comparation between the actual and the predicted labels can also be seen below."
      ],
      "metadata": {
        "id": "cXqWwHttXcZn"
      }
    },
    {
      "cell_type": "code",
      "source": [
        "# Printing the actual labels and the predicted labels\n",
        "#predictions = multi_model.predict(X_test)\n",
        "predictions = multi_model.predict(X_test)\n",
        "print('Predicted labels:', predictions[:30])\n",
        "print('Actual labels:   ' ,y_test[:30])"
      ],
      "metadata": {
        "colab": {
          "base_uri": "https://localhost:8080/"
        },
        "id": "S9DxOxkt-cGr",
        "outputId": "7fca0d16-b99d-425b-a772-f589173c408c"
      },
      "execution_count": null,
      "outputs": [
        {
          "output_type": "stream",
          "name": "stdout",
          "text": [
            "Predicted labels: [2 1 2 1 0 0 2 0 1 2 0 0 0 0 0 0 0 0 1 1 0 1 0 0 1 2 2 0 0 0]\n",
            "Actual labels:    [2 1 2 2 1 1 2 2 2 2 0 1 0 0 1 0 2 2 2 1 2 1 0 0 0 2 2 1 0 2]\n"
          ]
        }
      ]
    },
    {
      "cell_type": "markdown",
      "source": [
        "**PRINTING THE ACCURACY REPORT FOR LOGISTIC REGRESSION**"
      ],
      "metadata": {
        "id": "b2ZSF4euXQKX"
      }
    },
    {
      "cell_type": "code",
      "source": [
        "# Printing the prediction accuracy\n",
        "from sklearn.metrics import accuracy_score\n",
        "result = accuracy_score(y_test, predictions)\n",
        "\n",
        "#Formatting the output to 2 decimal places & print it\n",
        "formatted_result = '{0:.2f}'.format(result)\n",
        "print('Accuracy: ', formatted_result)"
      ],
      "metadata": {
        "colab": {
          "base_uri": "https://localhost:8080/"
        },
        "id": "VIFdsQ9G-ghT",
        "outputId": "69380e80-fb98-4ec1-dc7f-ebfcdbd36e10"
      },
      "execution_count": null,
      "outputs": [
        {
          "output_type": "stream",
          "name": "stdout",
          "text": [
            "Accuracy:  0.58\n"
          ]
        }
      ]
    },
    {
      "cell_type": "markdown",
      "source": [
        "**PRINTING THE CLASSIFICATION REPORT THAT CONTAINS THE FOLLOWING**\n",
        "* The Precision\n",
        "* The Recall\n",
        "* F1 Score and \n",
        "* The Accuracy score of the model"
      ],
      "metadata": {
        "id": "8G5eZHOvW_t1"
      }
    },
    {
      "cell_type": "code",
      "source": [
        "# Importing the classification report functionality from sklearn\n",
        "from sklearn.metrics import classification_report\n",
        "print(classification_report(y_test, predictions))"
      ],
      "metadata": {
        "colab": {
          "base_uri": "https://localhost:8080/"
        },
        "id": "xskkhW0d-rwD",
        "outputId": "ece96b38-3e4b-4a6c-b4ef-edd71ad7e366"
      },
      "execution_count": null,
      "outputs": [
        {
          "output_type": "stream",
          "name": "stdout",
          "text": [
            "              precision    recall  f1-score   support\n",
            "\n",
            "           0       0.56      0.80      0.66       122\n",
            "           1       0.46      0.32      0.37       101\n",
            "           2       0.80      0.60      0.69        82\n",
            "\n",
            "    accuracy                           0.58       305\n",
            "   macro avg       0.61      0.57      0.57       305\n",
            "weighted avg       0.59      0.58      0.57       305\n",
            "\n"
          ]
        }
      ]
    },
    {
      "cell_type": "markdown",
      "source": [
        "**PRINTING THE OVERALL METRICS**"
      ],
      "metadata": {
        "id": "zC6SlpXkWyNW"
      }
    },
    {
      "cell_type": "code",
      "source": [
        "# Importing the precision score and recall score from sklearn\n",
        "from sklearn.metrics import precision_score, recall_score\n",
        "\n",
        "# Printing the Overall metrics scores\n",
        "print(\"Overall Accuracy:\",accuracy_score(y_test, predictions))\n",
        "print(\"Overall Precision:\",precision_score(y_test, predictions, average='macro'))\n",
        "print(\"Overall Recall:\",recall_score(y_test, predictions, average='macro'))"
      ],
      "metadata": {
        "colab": {
          "base_uri": "https://localhost:8080/"
        },
        "id": "i8EYrloi-zyT",
        "outputId": "102b7cc2-d2fb-436b-ab5a-bf1d1449d7ed"
      },
      "execution_count": null,
      "outputs": [
        {
          "output_type": "stream",
          "name": "stdout",
          "text": [
            "Overall Accuracy: 0.5836065573770491\n",
            "Overall Precision: 0.6059642700117545\n",
            "Overall Recall: 0.5698248753303958\n"
          ]
        }
      ]
    },
    {
      "cell_type": "markdown",
      "source": [
        "**PRINTING THE CONFUSION MATRIX FOR LOGISTIC REGRESSION**"
      ],
      "metadata": {
        "id": "24GaofFfWH6h"
      }
    },
    {
      "cell_type": "code",
      "source": [
        "from sklearn.metrics import confusion_matrix\n",
        "\n",
        "# Print the confusion matrix\n",
        "cm = confusion_matrix(y_test, predictions)\n",
        "print (cm)"
      ],
      "metadata": {
        "colab": {
          "base_uri": "https://localhost:8080/"
        },
        "id": "2FQTbKls-3ez",
        "outputId": "2215a03a-ccde-411f-8df6-cd4f5e113d4c"
      },
      "execution_count": null,
      "outputs": [
        {
          "output_type": "stream",
          "name": "stdout",
          "text": [
            "[[97 24  1]\n",
            " [58 32 11]\n",
            " [19 14 49]]\n"
          ]
        }
      ]
    },
    {
      "cell_type": "markdown",
      "source": [
        "**Heat Map for the Confusion Matrix obtained using the Logistic Regression Model**"
      ],
      "metadata": {
        "id": "Fl6QIT93oGi5"
      }
    },
    {
      "cell_type": "code",
      "source": [
        "import numpy as np\n",
        "import matplotlib.pyplot as plt\n",
        "%matplotlib inline\n",
        "\n",
        "plt.imshow(cm, interpolation=\"nearest\", cmap=plt.cm.Blues)\n",
        "plt.colorbar()\n",
        "tick_marks = np.arange(len(risk_classes))\n",
        "plt.xticks(tick_marks, risk_classes, rotation=45)\n",
        "plt.yticks(tick_marks, risk_classes)\n",
        "plt.xlabel(\"Predicted Risk\")\n",
        "plt.ylabel(\"Actual Risk\")\n",
        "plt.show()"
      ],
      "metadata": {
        "colab": {
          "base_uri": "https://localhost:8080/",
          "height": 319
        },
        "id": "nsYzviuiUx87",
        "outputId": "f8b9c586-41d8-41a5-a9b1-2f6327fea01d"
      },
      "execution_count": null,
      "outputs": [
        {
          "output_type": "display_data",
          "data": {
            "text/plain": [
              "<Figure size 432x288 with 2 Axes>"
            ],
            "image/png": "[encoded data removed]"
          },
          "metadata": {
            "needs_background": "light"
          }
        }
      ]
    },
    {
      "cell_type": "markdown",
      "source": [
        "**Plotting the ROC curve for Logistic Regression**"
      ],
      "metadata": {
        "id": "0BpElae3n4_n"
      }
    },
    {
      "cell_type": "code",
      "source": [
        "from sklearn.metrics import roc_curve\n",
        "from sklearn.metrics import roc_auc_score\n",
        "\n",
        "# Get class probability scores\n",
        "maternal_prob = multi_model.predict_proba(X_test)\n",
        "\n",
        "# Get ROC metrics for each class\n",
        "fpr = {}\n",
        "tpr = {}\n",
        "thresh ={}\n",
        "for i in range(len(risk_classes)):    \n",
        "    fpr[i], tpr[i], thresh[i] = roc_curve(y_test, maternal_prob[:,i], pos_label=i)\n",
        "    \n",
        "# Plot the ROC chart\n",
        "plt.plot(fpr[0], tpr[0], linestyle='--',color='red', label=risk_classes[0] + ' vs Rest')\n",
        "plt.plot(fpr[1], tpr[1], linestyle='--',color='green', label=risk_classes[1] + ' vs Rest')\n",
        "plt.plot(fpr[2], tpr[2], linestyle='--',color='blue', label=risk_classes[2] + ' vs Rest')\n",
        "plt.title('Multiclass ROC curve')\n",
        "plt.xlabel('False Positive Rate')\n",
        "plt.ylabel('True Positive rate')\n",
        "plt.legend(loc='best')\n",
        "plt.show()"
      ],
      "metadata": {
        "colab": {
          "base_uri": "https://localhost:8080/",
          "height": 301
        },
        "id": "CfC4EyOPjtH-",
        "outputId": "9aa3af06-d5aa-4f49-efd7-8bb7d4420df0"
      },
      "execution_count": null,
      "outputs": [
        {
          "output_type": "display_data",
          "data": {
            "text/plain": [
              "<Figure size 432x288 with 1 Axes>"
            ],
            "image/png": "[encoded data removed]"
          },
          "metadata": {
            "needs_background": "light"
          }
        }
      ]
    },
    {
      "cell_type": "markdown",
      "source": [
        "**Calculating the aggregate area under the curve score - Logistic Regression**"
      ],
      "metadata": {
        "id": "lvIODQc3nnbY"
      }
    },
    {
      "cell_type": "code",
      "source": [
        "auc = roc_auc_score(y_test, maternal_prob, multi_class='ovr')\n",
        "print('Average AUC:', auc)"
      ],
      "metadata": {
        "colab": {
          "base_uri": "https://localhost:8080/"
        },
        "id": "P5DSve48kr0K",
        "outputId": "3f9663d2-8e85-447b-f195-a6761538ad7f"
      },
      "execution_count": null,
      "outputs": [
        {
          "output_type": "stream",
          "name": "stdout",
          "text": [
            "Average AUC: 0.7261868640478232\n"
          ]
        }
      ]
    },
    {
      "cell_type": "markdown",
      "source": [
        "**SUPPORT VECTOR MACHINE IMPLEMENTATION**\n",
        "* Training the Data with SVM Algorithm with Hyper Parameters"
      ],
      "metadata": {
        "id": "ePw4koWSnWLQ"
      }
    },
    {
      "cell_type": "code",
      "source": [
        "from sklearn.svm import SVC\n",
        "from sklearn.model_selection import GridSearchCV\n",
        "\n",
        "# Set the parameter grid for SVC\n",
        "param_grid = {'C': [0.1, 1, 10, 100], 'kernel': ['linear', 'rbf'], 'degree':[1, 2, 3], 'gamma': ['scale', 'auto']}\n",
        "\n",
        "# train a SVC model on the training set\n",
        "svm_multi_model = SVC(probability=True)\n",
        "#svm_multi_model = SVC(probability=True)\n",
        "\n",
        "# Use GridSearchCV to perform the hyperparameter tuning\n",
        "svm_multi_model = GridSearchCV(svm_multi_model, param_grid, cv=5)\n",
        "svm_multi_model.fit(X_train, y_train)\n",
        "\n",
        "# Print the best parameters and score\n",
        "print(\"Best parameters:\", svm_multi_model.best_params_)\n",
        "print(\"Best score:\", svm_multi_model.best_score_)"
      ],
      "metadata": {
        "colab": {
          "base_uri": "https://localhost:8080/"
        },
        "id": "f2BQdJbOlxAv",
        "outputId": "232cd97b-9da2-4868-ba4d-1920539eef39"
      },
      "execution_count": null,
      "outputs": [
        {
          "output_type": "stream",
          "name": "stdout",
          "text": [
            "Best parameters: {'C': 100, 'degree': 1, 'gamma': 'auto', 'kernel': 'rbf'}\n",
            "Best score: 0.7644590949955049\n"
          ]
        }
      ]
    },
    {
      "cell_type": "markdown",
      "source": [
        "**Comparing the SVM Prediction with the Actual Labels**\n",
        "* The printout of the comparation between the actual and the predicted labels can also be seen below."
      ],
      "metadata": {
        "id": "bNYIeT8gofeE"
      }
    },
    {
      "cell_type": "code",
      "source": [
        "# Printing the actual labels and the predicted labels\n",
        "svm_predictions = svm_multi_model.predict(X_test)\n",
        "print('Predicted labels:', svm_predictions[:20])\n",
        "print('Actual labels:   ' ,y_test[:20])"
      ],
      "metadata": {
        "colab": {
          "base_uri": "https://localhost:8080/"
        },
        "id": "uftrm5PSnK-W",
        "outputId": "1fc2fe17-442a-4f09-f067-b914b3d7caf9"
      },
      "execution_count": null,
      "outputs": [
        {
          "output_type": "stream",
          "name": "stdout",
          "text": [
            "Predicted labels: [2 0 2 2 1 0 2 0 2 2 0 1 1 0 0 0 0 2 2 1]\n",
            "Actual labels:    [2 1 2 2 1 1 2 2 2 2 0 1 0 0 1 0 2 2 2 1]\n"
          ]
        }
      ]
    },
    {
      "cell_type": "markdown",
      "source": [
        "**SVM Accuracy Score**"
      ],
      "metadata": {
        "id": "QIqKTt1KoYjs"
      }
    },
    {
      "cell_type": "code",
      "source": [
        "# Printing the prediction accuracy\n",
        "from sklearn.metrics import accuracy_score\n",
        "result = accuracy_score(y_test, svm_predictions)\n",
        "\n",
        "#Formatting the output to 2 decimal places & print it\n",
        "formatted_result = '{0:.2f}'.format(result)\n",
        "print('Accuracy: ', formatted_result)"
      ],
      "metadata": {
        "colab": {
          "base_uri": "https://localhost:8080/"
        },
        "id": "ktvwXA7On5qp",
        "outputId": "7f4c8ddc-91a9-42e7-c626-ac7394e34193"
      },
      "execution_count": null,
      "outputs": [
        {
          "output_type": "stream",
          "name": "stdout",
          "text": [
            "Accuracy:  0.76\n"
          ]
        }
      ]
    },
    {
      "cell_type": "markdown",
      "source": [
        "**SVM Classification Report**\n",
        "* The Precision\n",
        "* The Recall\n",
        "* F1 Score and \n",
        "* The Accuracy score of the model"
      ],
      "metadata": {
        "id": "ZP8EQl7LoUKe"
      }
    },
    {
      "cell_type": "code",
      "source": [
        "# Importing the classification report functionality from sklearn\n",
        "from sklearn.metrics import classification_report\n",
        "print(classification_report(y_test, svm_predictions))"
      ],
      "metadata": {
        "colab": {
          "base_uri": "https://localhost:8080/"
        },
        "id": "V5_4ZEOXoMrf",
        "outputId": "d6a1e051-8b08-483b-8c26-2537378d2dcc"
      },
      "execution_count": null,
      "outputs": [
        {
          "output_type": "stream",
          "name": "stdout",
          "text": [
            "              precision    recall  f1-score   support\n",
            "\n",
            "           0       0.73      0.81      0.77       122\n",
            "           1       0.76      0.69      0.73       101\n",
            "           2       0.82      0.77      0.79        82\n",
            "\n",
            "    accuracy                           0.76       305\n",
            "   macro avg       0.77      0.76      0.76       305\n",
            "weighted avg       0.76      0.76      0.76       305\n",
            "\n"
          ]
        }
      ]
    },
    {
      "cell_type": "markdown",
      "source": [
        "**Printing the SVM Precision, Recall and Accuracy Scores**"
      ],
      "metadata": {
        "id": "QyXnZTWypBeE"
      }
    },
    {
      "cell_type": "code",
      "source": [
        "# Importing the precision score and recall score from sklearn\n",
        "from sklearn.metrics import precision_score, recall_score\n",
        "\n",
        "# Printing the Overall metrics scores\n",
        "print(\"Overall Accuracy:\",accuracy_score(y_test, svm_predictions))\n",
        "print(\"Overall Precision:\",precision_score(y_test, svm_predictions, average='macro'))\n",
        "print(\"Overall Recall:\",recall_score(y_test, svm_predictions, average='macro'))"
      ],
      "metadata": {
        "colab": {
          "base_uri": "https://localhost:8080/"
        },
        "id": "W0MHqdXfpTTe",
        "outputId": "cb0bc19b-6794-4bf2-fb39-1a440af97105"
      },
      "execution_count": null,
      "outputs": [
        {
          "output_type": "stream",
          "name": "stdout",
          "text": [
            "Overall Accuracy: 0.760655737704918\n",
            "Overall Precision: 0.7689975199565993\n",
            "Overall Recall: 0.7576124665645292\n"
          ]
        }
      ]
    },
    {
      "cell_type": "markdown",
      "source": [
        "**SVM Confusion Matrix**"
      ],
      "metadata": {
        "id": "MtckYbLKpy-m"
      }
    },
    {
      "cell_type": "code",
      "source": [
        "from sklearn.metrics import confusion_matrix\n",
        "\n",
        "# Print the confusion matrix\n",
        "cm2 = confusion_matrix(y_test, svm_predictions)\n",
        "print (cm2)"
      ],
      "metadata": {
        "colab": {
          "base_uri": "https://localhost:8080/"
        },
        "id": "kLxNwhlBpx_B",
        "outputId": "d001b852-0259-4220-b8eb-4ce8f5909081"
      },
      "execution_count": null,
      "outputs": [
        {
          "output_type": "stream",
          "name": "stdout",
          "text": [
            "[[99 19  4]\n",
            " [21 70 10]\n",
            " [16  3 63]]\n"
          ]
        }
      ]
    },
    {
      "cell_type": "markdown",
      "source": [
        "**Heatmap Plot for the SVM Confusion Matrix**"
      ],
      "metadata": {
        "id": "duk-eztvqFE_"
      }
    },
    {
      "cell_type": "code",
      "source": [
        "import numpy as np\n",
        "import matplotlib.pyplot as plt\n",
        "%matplotlib inline\n",
        "\n",
        "plt.imshow(cm2, interpolation=\"nearest\", cmap=plt.cm.Blues)\n",
        "plt.colorbar()\n",
        "tick_marks = np.arange(len(risk_classes))\n",
        "plt.xticks(tick_marks, risk_classes, rotation=45)\n",
        "plt.yticks(tick_marks, risk_classes)\n",
        "plt.xlabel(\"Predicted Risk\")\n",
        "plt.ylabel(\"Actual Risk\")\n",
        "plt.show()"
      ],
      "metadata": {
        "colab": {
          "base_uri": "https://localhost:8080/",
          "height": 319
        },
        "id": "Zwk3o6QZpuIf",
        "outputId": "c280ba79-b7d2-4690-c772-7771ebccd7d0"
      },
      "execution_count": null,
      "outputs": [
        {
          "output_type": "display_data",
          "data": {
            "text/plain": [
              "<Figure size 432x288 with 2 Axes>"
            ],
            "image/png": "[encoded data removed]"
          },
          "metadata": {
            "needs_background": "light"
          }
        }
      ]
    },
    {
      "cell_type": "markdown",
      "source": [
        "**ROC Curve Plot for the SVM ALgorithm**"
      ],
      "metadata": {
        "id": "LipJbnDhqSzA"
      }
    },
    {
      "cell_type": "code",
      "source": [
        "from sklearn.metrics import roc_curve\n",
        "from sklearn.metrics import roc_auc_score\n",
        "\n",
        "#multi_model = SVC(probability=True)\n",
        "\n",
        "# Get class probability scores\n",
        "svm_maternal_prob = svm_multi_model.predict_proba(X_test)\n",
        "\n",
        "# Get ROC metrics for each class\n",
        "fpr = {}\n",
        "tpr = {}\n",
        "thresh ={}\n",
        "for i in range(len(risk_classes)):    \n",
        "    fpr[i], tpr[i], thresh[i] = roc_curve(y_test, svm_maternal_prob[:,i], pos_label=i)\n",
        "    \n",
        "# Plot the ROC chart\n",
        "plt.plot(fpr[0], tpr[0], linestyle='--',color='red', label=risk_classes[0] + ' vs Rest')\n",
        "plt.plot(fpr[1], tpr[1], linestyle='--',color='green', label=risk_classes[1] + ' vs Rest')\n",
        "plt.plot(fpr[2], tpr[2], linestyle='--',color='blue', label=risk_classes[2] + ' vs Rest')\n",
        "plt.title('Multiclass ROC curve')\n",
        "plt.xlabel('False Positive Rate')\n",
        "plt.ylabel('True Positive rate')\n",
        "plt.legend(loc='best')\n",
        "plt.show()"
      ],
      "metadata": {
        "colab": {
          "base_uri": "https://localhost:8080/",
          "height": 301
        },
        "id": "9_cLdDRKqb5N",
        "outputId": "c9178ffd-5e5f-485c-d201-ad31caeecba1"
      },
      "execution_count": null,
      "outputs": [
        {
          "output_type": "display_data",
          "data": {
            "text/plain": [
              "<Figure size 432x288 with 1 Axes>"
            ],
            "image/png": "[encoded data removed]"
          },
          "metadata": {
            "needs_background": "light"
          }
        }
      ]
    },
    {
      "cell_type": "markdown",
      "source": [
        "**Calculating the AUC**"
      ],
      "metadata": {
        "id": "H9BAqZYU1jSx"
      }
    },
    {
      "cell_type": "code",
      "source": [
        "auc = roc_auc_score(y_test, svm_maternal_prob, multi_class='ovr')\n",
        "print('Average AUC:', auc)"
      ],
      "metadata": {
        "colab": {
          "base_uri": "https://localhost:8080/"
        },
        "id": "frAOv736r0Ct",
        "outputId": "3e45d0c8-a6df-4c58-b4c0-6ab9b2838a03"
      },
      "execution_count": null,
      "outputs": [
        {
          "output_type": "stream",
          "name": "stdout",
          "text": [
            "Average AUC: 0.8809519759639436\n"
          ]
        }
      ]
    },
    {
      "cell_type": "markdown",
      "source": [
        "**K-NEAREST NEIGHBOUR IMPLEMENTATION**\n",
        "* K-NN training the model and performing Hyperparameters tuning"
      ],
      "metadata": {
        "id": "qydWze_gOutJ"
      }
    },
    {
      "cell_type": "code",
      "source": [
        "from sklearn.model_selection import GridSearchCV\n",
        "from sklearn.neighbors import KNeighborsClassifier\n",
        "\n",
        "grid_params = { 'n_neighbors' : [1,3,5,7,9,11,13,15,17,19],\n",
        "               'weights' : ['uniform','distance'],\n",
        "               'metric' : ['minkowski','euclidean','manhattan']}\n",
        "\n",
        "gs = GridSearchCV(KNeighborsClassifier(), grid_params, verbose = 1, cv=3, n_jobs = -1)\n",
        "g_res = gs.fit(X_train, y_train)\n",
        "\n",
        "# find the best score\n",
        "g_res.best_score_\n",
        "\n",
        "# get the hyperparameters with the best score\n",
        "g_res.best_params_"
      ],
      "metadata": {
        "colab": {
          "base_uri": "https://localhost:8080/"
        },
        "id": "zsIsdMelOs4x",
        "outputId": "6c8bde1b-0252-4ca1-f1bc-4fcf80c633ae"
      },
      "execution_count": null,
      "outputs": [
        {
          "output_type": "stream",
          "name": "stdout",
          "text": [
            "Fitting 3 folds for each of 60 candidates, totalling 180 fits\n"
          ]
        },
        {
          "output_type": "execute_result",
          "data": {
            "text/plain": [
              "{'metric': 'manhattan', 'n_neighbors': 1, 'weights': 'uniform'}"
            ]
          },
          "metadata": {},
          "execution_count": 36
        }
      ]
    },
    {
      "cell_type": "markdown",
      "source": [
        "**Predicting using K-NN**\n",
        "* The printout of the comparation between the actual and the predicted labels can also be seen below."
      ],
      "metadata": {
        "id": "NlK1-o80PIUr"
      }
    },
    {
      "cell_type": "code",
      "source": [
        "knn_predictions = (g_res.predict(X_test))\n",
        "print('Predicted labels:', knn_predictions[:30])\n",
        "print('Actual labels:   ' , y_test[:30])\n",
        "print(' ')"
      ],
      "metadata": {
        "colab": {
          "base_uri": "https://localhost:8080/"
        },
        "id": "UCV0VMk_PL6S",
        "outputId": "fe9355fe-aa40-461c-887a-caaa9b5873d8"
      },
      "execution_count": null,
      "outputs": [
        {
          "output_type": "stream",
          "name": "stdout",
          "text": [
            "Predicted labels: [2 1 2 2 1 0 2 0 2 2 0 1 1 0 1 0 0 2 2 1 1 1 0 0 1 2 2 1 0 2]\n",
            "Actual labels:    [2 1 2 2 1 1 2 2 2 2 0 1 0 0 1 0 2 2 2 1 2 1 0 0 0 2 2 1 0 2]\n",
            " \n"
          ]
        }
      ]
    },
    {
      "cell_type": "markdown",
      "source": [
        "**Printing Precision, Accuracy and Recall Score for K-NN**"
      ],
      "metadata": {
        "id": "LJJ-SOM7PUlT"
      }
    },
    {
      "cell_type": "code",
      "source": [
        "from sklearn.metrics import accuracy_score, precision_score, recall_score\n",
        "# Overall metrics\n",
        "print(\"Overall Accuracy:\",'{0:.2f}'.format(accuracy_score(y_test, knn_predictions)))\n",
        "print(\"Overall Precision:\",'{0:.2f}'.format(precision_score(y_test, knn_predictions, average='macro')))\n",
        "print(\"Overall Recall:\",'{0:.2f}'.format(recall_score(y_test, knn_predictions, average='macro')))\n",
        "print(' ')"
      ],
      "metadata": {
        "colab": {
          "base_uri": "https://localhost:8080/"
        },
        "id": "8ZJSyR-XPVxM",
        "outputId": "1359be2e-247f-4d0c-fd38-81c30f3466f6"
      },
      "execution_count": null,
      "outputs": [
        {
          "output_type": "stream",
          "name": "stdout",
          "text": [
            "Overall Accuracy: 0.79\n",
            "Overall Precision: 0.80\n",
            "Overall Recall: 0.79\n",
            " \n"
          ]
        }
      ]
    },
    {
      "cell_type": "markdown",
      "source": [
        "**K-Nearest Neighbours Classification Report**\n",
        "* The Precision\n",
        "* The Recall\n",
        "* F1 Score and \n",
        "* The Accuracy score of the model"
      ],
      "metadata": {
        "id": "VMRmqIiAPhOJ"
      }
    },
    {
      "cell_type": "code",
      "source": [
        "#Classification Report\n",
        "from sklearn.metrics import classification_report\n",
        "print(classification_report(y_test, knn_predictions))"
      ],
      "metadata": {
        "colab": {
          "base_uri": "https://localhost:8080/"
        },
        "id": "8MWdzH7fPihv",
        "outputId": "274430eb-a94f-4606-f928-5cb882a856cc"
      },
      "execution_count": null,
      "outputs": [
        {
          "output_type": "stream",
          "name": "stdout",
          "text": [
            "              precision    recall  f1-score   support\n",
            "\n",
            "           0       0.80      0.80      0.80       122\n",
            "           1       0.75      0.76      0.76       101\n",
            "           2       0.83      0.82      0.82        82\n",
            "\n",
            "    accuracy                           0.79       305\n",
            "   macro avg       0.80      0.79      0.79       305\n",
            "weighted avg       0.79      0.79      0.79       305\n",
            "\n"
          ]
        }
      ]
    },
    {
      "cell_type": "markdown",
      "source": [
        "**K-Nearest Neighbours Confusion Matrix**"
      ],
      "metadata": {
        "id": "vRkKThL2Pn_1"
      }
    },
    {
      "cell_type": "code",
      "source": [
        "#Import statement\n",
        "from sklearn.metrics import confusion_matrix\n",
        "\n",
        "# Print the confusion matrix\n",
        "knn_cm = confusion_matrix(y_test, knn_predictions)\n",
        "print (knn_cm)"
      ],
      "metadata": {
        "colab": {
          "base_uri": "https://localhost:8080/"
        },
        "id": "O2GY3ybbPpQG",
        "outputId": "06862240-b8c4-46e7-f1ad-50364a2fa4bc"
      },
      "execution_count": null,
      "outputs": [
        {
          "output_type": "stream",
          "name": "stdout",
          "text": [
            "[[98 18  6]\n",
            " [16 77  8]\n",
            " [ 8  7 67]]\n"
          ]
        }
      ]
    },
    {
      "cell_type": "markdown",
      "source": [
        "**K-Nearest Neighbours Confusion Matrix Heatmap**"
      ],
      "metadata": {
        "id": "Hlqv9GS2P6I0"
      }
    },
    {
      "cell_type": "code",
      "source": [
        "import numpy as np\n",
        "\n",
        "%matplotlib inline\n",
        "\n",
        "plt.imshow(knn_cm, interpolation=\"nearest\", cmap=plt.cm.Blues)\n",
        "plt.colorbar()\n",
        "tick_marks = np.arange(len(risk_classes))\n",
        "plt.xticks(tick_marks, risk_classes, rotation=45)\n",
        "plt.yticks(tick_marks, risk_classes)\n",
        "plt.xlabel(\"Predicted Risk\")\n",
        "plt.ylabel(\"Actual Risk\")\n",
        "print(\"\")\n",
        "plt.show()"
      ],
      "metadata": {
        "colab": {
          "base_uri": "https://localhost:8080/",
          "height": 337
        },
        "id": "6TkAmtVRPxWR",
        "outputId": "853692af-9b0b-488a-b0e4-d8e6ad209ba9"
      },
      "execution_count": null,
      "outputs": [
        {
          "output_type": "stream",
          "name": "stdout",
          "text": [
            "\n"
          ]
        },
        {
          "output_type": "display_data",
          "data": {
            "text/plain": [
              "<Figure size 432x288 with 2 Axes>"
            ],
            "image/png": "[encoded data removed]"
          },
          "metadata": {
            "needs_background": "light"
          }
        }
      ]
    },
    {
      "cell_type": "markdown",
      "source": [
        "**K-Nearest Neighbours ROC Curve**"
      ],
      "metadata": {
        "id": "calt6pxAQG3h"
      }
    },
    {
      "cell_type": "code",
      "source": [
        "#Import statement\n",
        "from sklearn.metrics import roc_curve\n",
        "from sklearn.metrics import roc_auc_score\n",
        "\n",
        "# Get class probability scores\n",
        "KNN_maternal_prob = g_res.predict_proba(X_test)\n",
        "\n",
        "# Get ROC metrics for each class\n",
        "fpr = {}\n",
        "tpr = {}\n",
        "thresh ={}\n",
        "for i in range(len(risk_classes)):    \n",
        "    fpr[i], tpr[i], thresh[i] = roc_curve(y_test, KNN_maternal_prob[:,i], pos_label=i)\n",
        "    \n",
        "# Plot the ROC chart\n",
        "plt.plot(fpr[0], tpr[0], linestyle='--',color='red', label=risk_classes[0] + ' vs Rest')\n",
        "plt.plot(fpr[1], tpr[1], linestyle='--',color='green', label=risk_classes[1] + ' vs Rest')\n",
        "plt.plot(fpr[2], tpr[2], linestyle='--',color='blue', label=risk_classes[2] + ' vs Rest')\n",
        "plt.title('Multiclass ROC curve')\n",
        "plt.xlabel('False Positive Rate')\n",
        "plt.ylabel('True Positive rate')\n",
        "plt.legend(loc='best')\n",
        "plt.show()"
      ],
      "metadata": {
        "colab": {
          "base_uri": "https://localhost:8080/",
          "height": 301
        },
        "id": "Jb523uNDQJUj",
        "outputId": "5ae0db4b-b576-45f3-a7f0-8acda98c97d4"
      },
      "execution_count": null,
      "outputs": [
        {
          "output_type": "display_data",
          "data": {
            "text/plain": [
              "<Figure size 432x288 with 1 Axes>"
            ],
            "image/png": "[encoded data removed]"
          },
          "metadata": {
            "needs_background": "light"
          }
        }
      ]
    },
    {
      "cell_type": "markdown",
      "source": [
        "**Calculating the aggregate area under the curve score**"
      ],
      "metadata": {
        "id": "_PsEGt3QQO-B"
      }
    },
    {
      "cell_type": "code",
      "source": [
        "auc = roc_auc_score(y_test, KNN_maternal_prob, multi_class='ovr')\n",
        "print('Average AUC:', auc)"
      ],
      "metadata": {
        "colab": {
          "base_uri": "https://localhost:8080/"
        },
        "id": "na43ic5YQN5A",
        "outputId": "9ba75f80-0392-4374-8d27-7a6242684f37"
      },
      "execution_count": null,
      "outputs": [
        {
          "output_type": "stream",
          "name": "stdout",
          "text": [
            "Average AUC: 0.8443752112050523\n"
          ]
        }
      ]
    },
    {
      "cell_type": "markdown",
      "source": [
        "**Plotting a Bar chart comparing the Accuracy scores of the three classification models**"
      ],
      "metadata": {
        "id": "BnY0lYxGQkv7"
      }
    },
    {
      "cell_type": "code",
      "source": [
        "import matplotlib.pyplot as plt\n",
        "import numpy as np\n",
        "\n",
        "# Data\n",
        "x = np.array([0.58, 0.76, 0.83])\n",
        "y = [\"LR\", \"SVM\", \"K-NN\"]\n",
        "\n",
        "# Plotting the bar chart\n",
        "plt.bar(y, x, color = ('darkgreen', 'darkblue', 'purple'))\n",
        "plt.xlabel('Algorithms', fontsize=15)\n",
        "plt.ylabel('Accuracy', fontsize=15)\n",
        "plt.title('Accuracy Comparison', fontsize=20)\n",
        "plt.ylim(0,1)\n",
        "plt.grid(True, linestyle='-.')\n",
        "\n",
        "# Adding values above each bar\n",
        "for i, v in enumerate(x):\n",
        "    plt.text(i, v + 0.05, str(round(v, 2)), fontweight='bold', fontsize=12)\n",
        "\n",
        "# Show the plot\n",
        "plt.show()"
      ],
      "metadata": {
        "colab": {
          "base_uri": "https://localhost:8080/",
          "height": 308
        },
        "id": "RfKF7CipHIMy",
        "outputId": "e6d54156-ffd6-45c0-e68e-6ae024b10006"
      },
      "execution_count": null,
      "outputs": [
        {
          "output_type": "display_data",
          "data": {
            "text/plain": [
              "<Figure size 432x288 with 1 Axes>"
            ],
            "image/png": "[encoded data removed]"
          },
          "metadata": {
            "needs_background": "light"
          }
        }
      ]
    },
    {
      "cell_type": "markdown",
      "source": [
        "**Plot a Grouped Bar Chart for Precision Scores for Risk classes in relation to the three classification model**"
      ],
      "metadata": {
        "id": "4l07VjIPeDA-"
      }
    },
    {
      "cell_type": "code",
      "source": [
        "import matplotlib.pyplot as plt\n",
        "import numpy as np\n",
        "\n",
        "# Create some example data\n",
        "LR = [0.56, 0.46,0.80]\n",
        "SVM = [0.73,0.76,0.82]\n",
        "KNN = [0.81,0.83,0.88]\n",
        "\n",
        "fig = plt.figure(figsize=(8, 6))\n",
        "\n",
        "# Create the bar chart\n",
        "ax = fig.add_subplot(111)\n",
        "bar_width = 0.2\n",
        "bar1 = ax.bar(np.arange(len(LR)), LR, bar_width)\n",
        "bar2 = ax.bar(np.arange(len(SVM)) + bar_width, SVM, bar_width)\n",
        "bar3 = ax.bar(np.arange(len(KNN)) + bar_width*2, KNN, bar_width)\n",
        "\n",
        "ax.set_xticks(np.arange(len(LR))+bar_width)\n",
        "ax.set_xticklabels(['Low Risk - 0', 'Mid Risk - 1', 'High Risk - 2'])\n",
        "\n",
        "# Add labels and a title\n",
        "ax.set_xlabel('Risk Classes')\n",
        "ax.set_ylabel('Precision Scores')\n",
        "ax.set_title('Grouped Bar for Precision Scores')\n",
        "ax.legend((bar1[0], bar2[0], bar3[0]), ('LR', 'SVM', 'KNN'))\n",
        "\n",
        "# Show the chart\n",
        "plt.show()"
      ],
      "metadata": {
        "colab": {
          "base_uri": "https://localhost:8080/",
          "height": 410
        },
        "id": "OqGBpF6udiR-",
        "outputId": "9ae08233-66b4-4d5a-d06a-fb5b6951c6d7"
      },
      "execution_count": null,
      "outputs": [
        {
          "output_type": "display_data",
          "data": {
            "text/plain": [
              "<Figure size 576x432 with 1 Axes>"
            ],
            "image/png": "[encoded data removed]"
          },
          "metadata": {
            "needs_background": "light"
          }
        }
      ]
    },
    {
      "cell_type": "markdown",
      "source": [
        "**Plot a Grouped Bar Chart for Recall Scores for Risk classes in relation to the three classification model** "
      ],
      "metadata": {
        "id": "GDzVTwKFeQK3"
      }
    },
    {
      "cell_type": "code",
      "source": [
        "import matplotlib.pyplot as plt\n",
        "import numpy as np\n",
        "\n",
        "# Create some example data\n",
        "LR = [0.80, 0.32,0.60]\n",
        "SVM = [0.81,0.69,0.77]\n",
        "KNN = [0.85,0.79,0.85]\n",
        "\n",
        "fig = plt.figure(figsize=(8, 6))\n",
        "\n",
        "# Create the bar chart\n",
        "ax = fig.add_subplot(111)\n",
        "bar_width = 0.2\n",
        "bar1 = ax.bar(np.arange(len(LR)), LR, bar_width)\n",
        "bar2 = ax.bar(np.arange(len(SVM)) + bar_width, SVM, bar_width)\n",
        "bar3 = ax.bar(np.arange(len(KNN)) + bar_width*2, KNN, bar_width)\n",
        "\n",
        "ax.set_xticks(np.arange(len(LR))+bar_width)\n",
        "ax.set_xticklabels(['Low Risk - 0', 'Mid Risk - 1', 'High Risk - 2'])\n",
        "\n",
        "# Add labels and a title\n",
        "ax.set_xlabel('Risk Classes')\n",
        "ax.set_ylabel('Recall Scores')\n",
        "ax.set_title('Grouped Bar for Recall Scores')\n",
        "ax.legend((bar1[0], bar2[0], bar3[0]), ('LR', 'SVM', 'KNN'))\n",
        "\n",
        "# Show the chart\n",
        "plt.show()"
      ],
      "metadata": {
        "colab": {
          "base_uri": "https://localhost:8080/",
          "height": 410
        },
        "id": "Qtal0cwYea7H",
        "outputId": "0d15a9fe-d5fb-412b-da52-5493e8209c09"
      },
      "execution_count": null,
      "outputs": [
        {
          "output_type": "display_data",
          "data": {
            "text/plain": [
              "<Figure size 576x432 with 1 Axes>"
            ],
            "image/png": "[encoded data removed]"
          },
          "metadata": {
            "needs_background": "light"
          }
        }
      ]
    },
    {
      "cell_type": "markdown",
      "source": [
        "**Plot a Grouped Bar Chart for F1 Score for Risk classes in relation to the three classification model**"
      ],
      "metadata": {
        "id": "jmolzxAcfg6W"
      }
    },
    {
      "cell_type": "code",
      "source": [
        "import matplotlib.pyplot as plt\n",
        "import numpy as np\n",
        "\n",
        "# Create some example data\n",
        "LR = [0.66, 0.37,0.69]\n",
        "SVM = [0.77,0.73,0.79]\n",
        "KNN = [0.83,0.81,0.86]\n",
        "\n",
        "fig = plt.figure(figsize=(8, 6))\n",
        "\n",
        "# Create the bar chart\n",
        "ax = fig.add_subplot(111)\n",
        "bar_width = 0.2\n",
        "bar1 = ax.bar(np.arange(len(LR)), LR, bar_width)\n",
        "bar2 = ax.bar(np.arange(len(SVM)) + bar_width, SVM, bar_width)\n",
        "bar3 = ax.bar(np.arange(len(KNN)) + bar_width*2, KNN, bar_width)\n",
        "\n",
        "ax.set_xticks(np.arange(len(LR))+bar_width)\n",
        "ax.set_xticklabels(['Low Risk - 0', 'Mid Risk - 1', 'High Risk - 2'])\n",
        "\n",
        "# Add labels and a title\n",
        "ax.set_xlabel('Risk Classes')\n",
        "ax.set_ylabel('F1 Score')\n",
        "ax.set_title('Grouped Bar for F1 Score')\n",
        "ax.legend((bar1[0], bar2[0], bar3[0]), ('LR', 'SVM', 'KNN'))\n",
        "\n",
        "# Show the chart\n",
        "plt.show()"
      ],
      "metadata": {
        "colab": {
          "base_uri": "https://localhost:8080/",
          "height": 410
        },
        "id": "gwtJWnqVe_2Y",
        "outputId": "b59431ba-396b-4229-a9cc-bc809ab31a3d"
      },
      "execution_count": null,
      "outputs": [
        {
          "output_type": "display_data",
          "data": {
            "text/plain": [
              "<Figure size 576x432 with 1 Axes>"
            ],
            "image/png": "[encoded data removed]"
          },
          "metadata": {
            "needs_background": "light"
          }
        }
      ]
    },
    {
      "cell_type": "markdown",
      "source": [
        "**SAVING THE MATERNAL MODEL**"
      ],
      "metadata": {
        "id": "1Zb3Ev4jTqSI"
      }
    },
    {
      "cell_type": "code",
      "source": [
        "import joblib\n",
        "\n",
        "# Save the model as a pickle file\n",
        "filename = './maternal_model.pkl'\n",
        "joblib.dump(multi_model, filename_k_nn)"
      ],
      "metadata": {
        "id": "zV3ZHVwOTkJ6"
      },
      "execution_count": null,
      "outputs": []
    }
  ]
}